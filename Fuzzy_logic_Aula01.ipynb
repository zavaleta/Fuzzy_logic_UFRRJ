{
  "nbformat": 4,
  "nbformat_minor": 0,
  "metadata": {
    "colab": {
      "name": "Fuzzy_logic_Aula01.ipynb",
      "provenance": []
    },
    "kernelspec": {
      "name": "python3",
      "display_name": "Python 3"
    }
  },
  "cells": [
    {
      "cell_type": "markdown",
      "metadata": {
        "id": "hv9fzxYv9Be9"
      },
      "source": [
        "## Universidade Federal Rural do Rio de Janeiro\n",
        "## Curso de Sistemas de Informação\n",
        "## Aula de Lógica Fuzzy\n",
        "### Prof. Macário Costa e Jorge Zavaleta\n",
        "---"
      ]
    },
    {
      "cell_type": "markdown",
      "metadata": {
        "id": "nTLadCi49NFg"
      },
      "source": [
        "## Instalação do Scikit-Fuzzy\n"
      ]
    },
    {
      "cell_type": "code",
      "metadata": {
        "id": "GWKFRy0GCDNj",
        "outputId": "0c01df8c-a8f1-49ad-cbbb-1a1402a4aa32",
        "colab": {
          "base_uri": "https://localhost:8080/",
          "height": 275
        }
      },
      "source": [
        "!pip install -U scikit-fuzzy"
      ],
      "execution_count": 1,
      "outputs": [
        {
          "output_type": "stream",
          "text": [
            "Collecting scikit-fuzzy\n",
            "\u001b[?25l  Downloading https://files.pythonhosted.org/packages/6c/f0/5eb5dbe0fd8dfe7d4651a8f4e591a196623a22b9e5339101e559695b4f6c/scikit-fuzzy-0.4.2.tar.gz (993kB)\n",
            "\u001b[K     |████████████████████████████████| 1.0MB 2.8MB/s \n",
            "\u001b[?25hRequirement already satisfied, skipping upgrade: numpy>=1.6.0 in /usr/local/lib/python3.6/dist-packages (from scikit-fuzzy) (1.18.5)\n",
            "Requirement already satisfied, skipping upgrade: scipy>=0.9.0 in /usr/local/lib/python3.6/dist-packages (from scikit-fuzzy) (1.4.1)\n",
            "Requirement already satisfied, skipping upgrade: networkx>=1.9.0 in /usr/local/lib/python3.6/dist-packages (from scikit-fuzzy) (2.5)\n",
            "Requirement already satisfied, skipping upgrade: decorator>=4.3.0 in /usr/local/lib/python3.6/dist-packages (from networkx>=1.9.0->scikit-fuzzy) (4.4.2)\n",
            "Building wheels for collected packages: scikit-fuzzy\n",
            "  Building wheel for scikit-fuzzy (setup.py) ... \u001b[?25l\u001b[?25hdone\n",
            "  Created wheel for scikit-fuzzy: filename=scikit_fuzzy-0.4.2-cp36-none-any.whl size=894070 sha256=6a417fcfb2b9a3bffe7c1aa05400f26e96844cd371eca32d0c6869f9e2e6b04a\n",
            "  Stored in directory: /root/.cache/pip/wheels/b9/4e/77/da79b16f64ef1738d95486e2731eea09d73e90a72465096600\n",
            "Successfully built scikit-fuzzy\n",
            "Installing collected packages: scikit-fuzzy\n",
            "Successfully installed scikit-fuzzy-0.4.2\n"
          ],
          "name": "stdout"
        }
      ]
    },
    {
      "cell_type": "code",
      "metadata": {
        "id": "jMSamltYhVR-"
      },
      "source": [
        "############ Testando a instalação\n",
        "# importando a biblioteca de \"arrays\" numéricos\n",
        "import numpy as np\n",
        "# importando a biblioteca fuzzy\n",
        "import skfuzzy as fuzzy\n",
        "# importando a biblioteca para os gráficos\n",
        "import matplotlib.pyplot as plt"
      ],
      "execution_count": 3,
      "outputs": []
    },
    {
      "cell_type": "markdown",
      "metadata": {
        "id": "65OYbglf9XXj"
      },
      "source": [
        "## Conjuntos Fuzzy"
      ]
    },
    {
      "cell_type": "code",
      "metadata": {
        "id": "tUxfikjI9ek_"
      },
      "source": [
        "# Testando o funcionamento de numpy\n",
        "U = np.arange(11) # gerando um array de 11 valores\n",
        "# visualizando os valores gerados e guardados em x\n",
        "print('U:',U)"
      ],
      "execution_count": null,
      "outputs": []
    },
    {
      "cell_type": "markdown",
      "metadata": {
        "id": "GuGeXA2I9f-5"
      },
      "source": [
        "## Funções de Inclusão (Pertinência)"
      ]
    },
    {
      "cell_type": "markdown",
      "metadata": {
        "id": "mGjuK7ya9opn"
      },
      "source": [
        "### Função Triangular"
      ]
    },
    {
      "cell_type": "code",
      "metadata": {
        "id": "SlvW7NRR-6yB"
      },
      "source": [
        "# importando a biblioteca\n",
        "# import skfuzzy as fuzzy\n",
        "#\n",
        "# definindo uma função triangular (TRIMF) com a= 0, b=5, c= 10.\n",
        "A3 = fuzzy.trimf(U, [0, 5, 10])\n",
        "# visualizando os valores do triángulo\n",
        "print('A3 =',A3)"
      ],
      "execution_count": null,
      "outputs": []
    },
    {
      "cell_type": "code",
      "metadata": {
        "id": "GxCDPGAVEE3a"
      },
      "source": [
        "#import matplotlib.pyplot as plt\n",
        "# graficando a função de pertinencia triangular\n",
        "plt.plot(U, A3,'r', linewidth=1.5, label='Triangular')\n",
        "plt.fill(U, A3,'y', alpha=0.4)\n",
        "plt.legend();"
      ],
      "execution_count": null,
      "outputs": []
    },
    {
      "cell_type": "markdown",
      "metadata": {
        "id": "Un46nBo79y4T"
      },
      "source": [
        "### Função Trapezoidal"
      ]
    },
    {
      "cell_type": "code",
      "metadata": {
        "id": "JSW4wuVf-AA-"
      },
      "source": [
        "#\n",
        "# definindo a função trapezoidal - trapmf com a=0, b= 4, c=7, d=10\n",
        "A4 = fuzzy.trapmf(U,[0,4,7,10])\n",
        "print(A4)\n",
        "# graficando a função de pertinencia trapezoidal\n",
        "plt.plot(U,A4, 'g', linewidth=1.5, label='Trapezoidal')\n",
        "plt.fill(U, A4,'r', alpha=0.2)\n",
        "plt.legend();"
      ],
      "execution_count": null,
      "outputs": []
    },
    {
      "cell_type": "markdown",
      "metadata": {
        "id": "0f4i4977GJML"
      },
      "source": [
        "## Função Gaussiana"
      ]
    },
    {
      "cell_type": "code",
      "metadata": {
        "id": "Jfz3l-gUGJuc"
      },
      "source": [
        "val = np.arange(-10,11)\n",
        "# definindo a função gaussiana - gaussmf\n",
        "Ag = fuzzy.gaussmf(val,0.2,5)\n",
        "print(Ag)\n",
        "# graficando a função de pertinencia gaussiana\n",
        "plt.plot(val,Ag,'b', linewidth=1.5, label='Gaussiana')\n",
        "plt.legend();"
      ],
      "execution_count": null,
      "outputs": []
    },
    {
      "cell_type": "markdown",
      "metadata": {
        "id": "h4DhAiwVGlGV"
      },
      "source": [
        "## Função Sigmoidal"
      ]
    },
    {
      "cell_type": "code",
      "metadata": {
        "id": "cKQh45IIGhtK"
      },
      "source": [
        "As = fuzzy.sigmf(val,2,10)\n",
        "print(As)\n",
        "# graficando a função de pertinencia sigmoidal\n",
        "plt.plot(val,As, linewidth=1.5, label='Sigmoidal')\n",
        "plt.legend();"
      ],
      "execution_count": null,
      "outputs": []
    },
    {
      "cell_type": "markdown",
      "metadata": {
        "id": "Vf4Csq0eHjIN"
      },
      "source": [
        "## Graficando 2 conjuntos"
      ]
    },
    {
      "cell_type": "code",
      "metadata": {
        "id": "I7YYkY_8Hjge"
      },
      "source": [
        "# Graficando 2 conjuntos\n",
        "fig, g2c = plt.subplots(nrows=1, figsize=(10, 5))\n",
        "#\n",
        "g2c.plot(U,A3,'r', linewidth=1.5, label='Conjunto A')\n",
        "g2c.fill(U,A3,'r',alpha=0.2)\n",
        "g2c.legend();\n",
        "#\n",
        "g2c.plot(U,A4,'b', linewidth=1.5, label='Conjunto B')\n",
        "g2c.fill(U,A4,'b',alpha=0.2)\n",
        "g2c.set_title('Conjunto A e B')\n",
        "plt.legend()\n",
        "plt.show();"
      ],
      "execution_count": null,
      "outputs": []
    },
    {
      "cell_type": "code",
      "metadata": {
        "id": "fZEZmux1I2OC"
      },
      "source": [
        "# novos conjuntos\n",
        "A3x = fuzzy.trimf(U, [0, 3, 6])\n",
        "A4x = fuzzy.trapmf(U,[3,8,9,10])"
      ],
      "execution_count": 14,
      "outputs": []
    },
    {
      "cell_type": "code",
      "metadata": {
        "id": "3JUgjWNsJGEi"
      },
      "source": [
        "# Graficando 2 conjuntos\n",
        "fig, g2cx = plt.subplots(nrows=1, figsize=(10, 5))\n",
        "#\n",
        "g2cx.plot(U,A3x,'r', linewidth=1.5, label='Conjunto A')\n",
        "g2cx.fill(U,A3x,'r',alpha=0.2)\n",
        "g2cx.legend();\n",
        "#\n",
        "g2cx.plot(U,A4x,'b', linewidth=1.5, label='Conjunto B')\n",
        "g2cx.fill(U,A4x,'b',alpha=0.2)\n",
        "g2cx.set_title('Conjunto A e B')\n",
        "plt.legend()\n",
        "plt.show();\n",
        "# gravar o grafico\n",
        "#fig.savefig('doisconjuntos.png')"
      ],
      "execution_count": null,
      "outputs": []
    },
    {
      "cell_type": "markdown",
      "metadata": {
        "id": "3pKR2fsk-BOO"
      },
      "source": [
        "## Interseção de conjuntos Fuzzy"
      ]
    },
    {
      "cell_type": "code",
      "metadata": {
        "id": "NNqIRzEC-IHt"
      },
      "source": [
        "# intersecao de 2 conjuntos\n",
        "int2c = fuzzy.fuzzy_and(U,A3x,U,A4x)\n",
        "print(int2c)"
      ],
      "execution_count": null,
      "outputs": []
    },
    {
      "cell_type": "code",
      "metadata": {
        "id": "nwuRAMd3MLJO"
      },
      "source": [
        "plt.plot(U,int2c[1], linewidth=1.5, label='Interseção de Conjuntos')\n",
        "plt.fill(U,int2c[1],'r',alpha=0.2)\n",
        "plt.legend();"
      ],
      "execution_count": null,
      "outputs": []
    },
    {
      "cell_type": "markdown",
      "metadata": {
        "id": "ZIroyiSy-JDy"
      },
      "source": [
        "## União de Conjuntos Fuzzy"
      ]
    },
    {
      "cell_type": "code",
      "metadata": {
        "id": "qQfi1Jl4-Mvi"
      },
      "source": [
        "# Union de 2 conjuntos\n",
        "union2c = fuzzy.fuzzy_or(U,A3x,U,A4x)\n",
        "print(union2c)"
      ],
      "execution_count": null,
      "outputs": []
    },
    {
      "cell_type": "code",
      "metadata": {
        "id": "6JR4ev5NOvib"
      },
      "source": [
        "plt.plot(U,union2c[1], linewidth=1.5, label='União de Conjuntos')\n",
        "plt.fill(U,union2c[1],'r',alpha=0.2)\n",
        "plt.legend();"
      ],
      "execution_count": null,
      "outputs": []
    },
    {
      "cell_type": "markdown",
      "metadata": {
        "id": "ljYvWvnP-SIS"
      },
      "source": [
        "## Complemento de Conjuntos Fuzzy"
      ]
    },
    {
      "cell_type": "code",
      "metadata": {
        "id": "Z_25MdLI-Xp6"
      },
      "source": [
        "# Complemento de conjuntos\n",
        "cA3 = fuzzy.fuzzy_not(A3x)\n",
        "print(cA3)\n"
      ],
      "execution_count": null,
      "outputs": []
    },
    {
      "cell_type": "code",
      "metadata": {
        "id": "mnicluxuQk9c"
      },
      "source": [
        "plt.plot(U,cA3, linewidth=1.5, label='Complemento de A')\n",
        "#plt.fill(U,cA3,'r',alpha=0.2)\n",
        "plt.legend();"
      ],
      "execution_count": null,
      "outputs": []
    },
    {
      "cell_type": "markdown",
      "metadata": {
        "id": "l6CL3Sfc-bEG"
      },
      "source": [
        "# Exercícios"
      ]
    },
    {
      "cell_type": "code",
      "metadata": {
        "id": "ipMW_3aV-g8s"
      },
      "source": [
        "#"
      ],
      "execution_count": null,
      "outputs": []
    }
  ]
}