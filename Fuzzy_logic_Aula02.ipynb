{
  "nbformat": 4,
  "nbformat_minor": 0,
  "metadata": {
    "colab": {
      "name": "Fuzzy_logic_Aula02.ipynb",
      "provenance": [],
      "authorship_tag": "ABX9TyOKwscxmXje6KKhGF8eV3zZ",
      "include_colab_link": true
    },
    "kernelspec": {
      "name": "python3",
      "display_name": "Python 3"
    }
  },
  "cells": [
    {
      "cell_type": "markdown",
      "metadata": {
        "id": "view-in-github",
        "colab_type": "text"
      },
      "source": [
        "<a href=\"https://colab.research.google.com/github/zavaleta/Fuzzy_logic_UFRRJ/blob/main/Fuzzy_logic_Aula02.ipynb\" target=\"_parent\"><img src=\"https://colab.research.google.com/assets/colab-badge.svg\" alt=\"Open In Colab\"/></a>"
      ]
    },
    {
      "cell_type": "markdown",
      "metadata": {
        "id": "Y_bQufTYz66G"
      },
      "source": [
        "## Universidade Federal Rural do Rio de Janeiro\n",
        "## Curso de Sistemas de Informação\n",
        "## Aula de Lógica Fuzzy\n",
        "### Prof. Macário Costa e Jorge Zavaleta\n",
        "---"
      ]
    },
    {
      "cell_type": "markdown",
      "metadata": {
        "id": "Nw6xMSEo0GYm"
      },
      "source": [
        "## Importando as bibliotecas"
      ]
    },
    {
      "cell_type": "code",
      "metadata": {
        "id": "oAi-baqM0YXM"
      },
      "source": [
        "# instalando\n",
        "!pip install -U scikit-fuzzy"
      ],
      "execution_count": null,
      "outputs": []
    },
    {
      "cell_type": "code",
      "metadata": {
        "id": "dfbc5-nw0dz4"
      },
      "source": [
        "########### Testando a instalação\n",
        "# importando a biblioteca de \"arrays\" numéricos\n",
        "import numpy as np\n",
        "# importando a biblioteca fuzzy\n",
        "import skfuzzy as fuzzy\n",
        "# importando a biblioteca para os gráficos\n",
        "import matplotlib.pyplot as plt"
      ],
      "execution_count": 3,
      "outputs": []
    },
    {
      "cell_type": "markdown",
      "metadata": {
        "id": "nMB9glK50wtK"
      },
      "source": [
        "## Definição do Universo dos Conjuntos"
      ]
    },
    {
      "cell_type": "code",
      "metadata": {
        "id": "AodKPyii0u81"
      },
      "source": [
        "# Universos dos conjuntos\n",
        "print('Peso:')\n",
        "p = np.arange(-20, 120, 1)\n",
        "print(p)\n",
        "print('Sujeira:')\n",
        "s = np.arange(-20, 120, 1)\n",
        "print(s)\n",
        "print('Quantidade de Detergente:')\n",
        "q  = np.arange(0, 120, 1)\n",
        "print(q)"
      ],
      "execution_count": null,
      "outputs": []
    },
    {
      "cell_type": "markdown",
      "metadata": {
        "id": "AMVluRhr2Hjq"
      },
      "source": [
        "## Gerando as funções de pertinência"
      ]
    },
    {
      "cell_type": "markdown",
      "metadata": {
        "id": "COLCyN4mCVuZ"
      },
      "source": [
        "### PESO"
      ]
    },
    {
      "cell_type": "code",
      "metadata": {
        "id": "_N0qjPWS2G0G"
      },
      "source": [
        "# Conjunto do PESO\n",
        "PML = fuzzy.trapmf(p,[-20,-10,0,20])\n",
        "PLE = fuzzy.trimf(p,[10,30,50])\n",
        "PPE = fuzzy.trimf(p,[40,65,90])\n",
        "PMP = fuzzy.trapmf(p,[75,90,100,120])"
      ],
      "execution_count": 5,
      "outputs": []
    },
    {
      "cell_type": "markdown",
      "metadata": {
        "id": "zawh_vhlCcQv"
      },
      "source": [
        "### SUJEIRA"
      ]
    },
    {
      "cell_type": "code",
      "metadata": {
        "id": "-takanfmCmyO"
      },
      "source": [
        "# Conjunto dA SUJEIRA\n",
        "SQL = fuzzy.trimf(s,[-20,0,20])\n",
        "SSU = fuzzy.trimf(s,[10,30,50])\n",
        "SMS = fuzzy.trimf(s,[40,70,100])\n",
        "SES = fuzzy.trimf(s,[80,100,120])\n",
        "#"
      ],
      "execution_count": 6,
      "outputs": []
    },
    {
      "cell_type": "markdown",
      "metadata": {
        "id": "1uEy07_hCf_Z"
      },
      "source": [
        "### QUANTIDADE DE DETERGENTE"
      ]
    },
    {
      "cell_type": "code",
      "metadata": {
        "id": "M_TOvQ-CCrt0"
      },
      "source": [
        "# Conjunto do QUANTIDADE DE DETERGENTE\n",
        "QMP = fuzzy.trimf(q,[0,10,20])\n",
        "QPO = fuzzy.trimf(q,[20,20,40])\n",
        "QMO = fuzzy.trimf(q,[40,50,60])\n",
        "QEX = fuzzy.trimf(q,[60,70,80])\n",
        "QMA = fuzzy.trapmf(q,[80,90,100,120])"
      ],
      "execution_count": 7,
      "outputs": []
    },
    {
      "cell_type": "markdown",
      "metadata": {
        "id": "V7o3Q-l06Ruo"
      },
      "source": [
        "### Visualizando as funções"
      ]
    },
    {
      "cell_type": "code",
      "metadata": {
        "id": "qxNTwErC6WHi"
      },
      "source": [
        "fig, (ax0, ax1, ax2) = plt.subplots(nrows=3, figsize=(8, 9))\n",
        "#\n",
        "ax0.plot(p, PML, 'b', linewidth=1.5, label='Muito Leve')\n",
        "ax0.plot(p, PLE, 'g', linewidth=1.5, label='Leve')\n",
        "ax0.plot(p, PPE, 'r', linewidth=1.5, label='Pesado')\n",
        "ax0.plot(p, PMP, 'y', linewidth=1.5, label='Muito Pesado')\n",
        "ax0.set_title('Peso')\n",
        "ax0.legend();\n",
        "#\n",
        "ax1.plot(s, SQL, 'b', linewidth=1.5, label='Quase Limpo')\n",
        "ax1.plot(s, SSU, 'g', linewidth=1.5, label='Sujo')\n",
        "ax1.plot(s, SMS, 'r', linewidth=1.5, label='Muito Sujo')\n",
        "ax1.plot(s, SES, 'y', linewidth=1.5, label='Extra Sujo')\n",
        "ax1.set_title('Sujeira')\n",
        "ax1.legend();\n",
        "#\n",
        "ax2.plot(q, QMP, 'b', linewidth=1.5, label='Muito Pouco')\n",
        "ax2.plot(q, QPO, 'g', linewidth=1.5, label='Pouco')\n",
        "ax2.plot(q, QMO, 'r', linewidth=1.5, label='Moderado')\n",
        "ax2.plot(q, QEX, 'y', linewidth=1.5, label='Exagerado')\n",
        "ax2.plot(q, QMA, 'k', linewidth=1.5, label='Máximo')\n",
        "ax2.set_title('Quantidade de Detergente')\n",
        "ax2.legend();\n",
        "#\n",
        "# Turn off top/right axes\n",
        "for ax in (ax0, ax1, ax2):\n",
        "    ax.spines['top'].set_visible(False)\n",
        "    ax.spines['right'].set_visible(False)\n",
        "    ax.get_xaxis().tick_bottom()\n",
        "    ax.get_yaxis().tick_left()\n",
        "\n",
        "plt.tight_layout()"
      ],
      "execution_count": null,
      "outputs": []
    },
    {
      "cell_type": "markdown",
      "metadata": {
        "id": "tyT7X2v2-l3u"
      },
      "source": [
        "## Regras Fuzzy"
      ]
    },
    {
      "cell_type": "code",
      "metadata": {
        "id": "FchiSrY9EZ1D"
      },
      "source": [
        "# Valores fixo\n",
        "# p1 = 10\n",
        "# s1 = 15"
      ],
      "execution_count": null,
      "outputs": []
    },
    {
      "cell_type": "code",
      "metadata": {
        "id": "Y4Pd1CfW6cDQ"
      },
      "source": [
        "# Ativar a regras\n",
        "# peso\n",
        "peso_ml = fuzzy.interp_membership(p, PML, 10)\n",
        "peso_le = fuzzy.interp_membership(p, PLE, 10)\n",
        "peso_pe = fuzzy.interp_membership(p, PPE, 10)\n",
        "peso_mp = fuzzy.interp_membership(p, PMP, 10)\n",
        "# sujo\n",
        "sujo_ql = fuzzy.interp_membership(s, SQL, 15)\n",
        "sujo_su = fuzzy.interp_membership(s, SSU, 15)\n",
        "sujo_ms = fuzzy.interp_membership(s, SMS, 15)\n",
        "sujo_es = fuzzy.interp_membership(s, SES, 15)"
      ],
      "execution_count": 10,
      "outputs": []
    },
    {
      "cell_type": "code",
      "metadata": {
        "id": "ikWZn4WGCfoJ"
      },
      "source": [
        "# ativacao das regras: AND = MIN = FMIN\n",
        "r1 = np.fmin(peso_ml, sujo_ql)\n",
        "r2 = np.fmin(peso_ml, sujo_su)\n",
        "r3 = np.fmin(peso_ml, sujo_ms)\n",
        "r4 = np.fmin(peso_ml, sujo_es)\n",
        "print('r1 :',r1)\n",
        "print('r2 :',r2)\n",
        "print('r3 :',r3)\n",
        "print('r4 :',r4)"
      ],
      "execution_count": null,
      "outputs": []
    },
    {
      "cell_type": "code",
      "metadata": {
        "id": "pd3xx8V4DWM6"
      },
      "source": [
        "# Ativacao - Quantidade de Detergente\n",
        "qd_qmp = np.fmin(r1, QMP) \n",
        "print(qd_qmp)"
      ],
      "execution_count": null,
      "outputs": []
    },
    {
      "cell_type": "code",
      "metadata": {
        "id": "yLMdgJYQGQsS"
      },
      "source": [
        "qd_qpo = np.fmin(r1, QPO) \n",
        "print(qd_qpo)"
      ],
      "execution_count": null,
      "outputs": []
    },
    {
      "cell_type": "code",
      "metadata": {
        "id": "HGAAyaRiHYs7"
      },
      "source": [
        "qd_qmo = np.fmin(r1, QMO) \n",
        "print(qd_qmo)"
      ],
      "execution_count": null,
      "outputs": []
    },
    {
      "cell_type": "code",
      "metadata": {
        "id": "0Loz5e93HYwd"
      },
      "source": [
        "qd_qex = np.fmin(r1, QEX) \n",
        "print(qd_qex)"
      ],
      "execution_count": null,
      "outputs": []
    },
    {
      "cell_type": "code",
      "metadata": {
        "id": "rtSuuqK_HtbW"
      },
      "source": [
        "qd_qma = np.fmin(r1, QMA) \n",
        "print(qd_qma)"
      ],
      "execution_count": null,
      "outputs": []
    },
    {
      "cell_type": "markdown",
      "metadata": {
        "id": "FOnfz3r-6aNy"
      },
      "source": [
        "### Gráfico"
      ]
    },
    {
      "cell_type": "code",
      "metadata": {
        "id": "7XV-gDzX6l5v"
      },
      "source": [
        "qd0 =  np.zeros_like(q) # matriz zeros\n",
        "# Visualize this\n",
        "fig, ax0 = plt.subplots(figsize=(8, 3))\n",
        "\n",
        "ax0.fill_between(q, qd0, qd_qmp, facecolor='b', alpha=0.7)\n",
        "ax0.plot(q, QMP, 'b', linewidth=0.5, linestyle='--', label='QMP')\n",
        "ax0.fill_between(q, qd0, qd_qpo, facecolor='g', alpha=0.7)\n",
        "ax0.plot(q, QPO, 'g', linewidth=0.5, linestyle='--',label='QPO')\n",
        "ax0.fill_between(q, qd0, qd_qmo, facecolor='r', alpha=0.7)\n",
        "ax0.plot(q, QMO, 'r', linewidth=0.5, linestyle='--',label='QMO')\n",
        "ax0.fill_between(q, qd0, qd_qex, facecolor='y', alpha=0.7)\n",
        "ax0.plot(q, QEX, 'y', linewidth=0.5, linestyle='--',label='QEX')\n",
        "ax0.fill_between(q, qd0, qd_qma, facecolor='k', alpha=0.7)\n",
        "ax0.plot(q, QMA, 'k', linewidth=0.5, linestyle='--',label='QMA')\n",
        "ax0.set_title('Saída das Funções de Pertinência')\n",
        "ax0.legend()\n",
        "\n",
        "# Turn off top/right axes\n",
        "for ax in (ax0,):\n",
        "    ax.spines['top'].set_visible(False)\n",
        "    ax.spines['right'].set_visible(False)\n",
        "    ax.get_xaxis().tick_bottom()\n",
        "    ax.get_yaxis().tick_left()\n",
        "\n",
        "plt.tight_layout()\n",
        "#fig.savefig('QD de R1')"
      ],
      "execution_count": null,
      "outputs": []
    },
    {
      "cell_type": "markdown",
      "metadata": {
        "id": "xei3uOPCKcsf"
      },
      "source": [
        "##  Defuzzificação"
      ]
    },
    {
      "cell_type": "code",
      "metadata": {
        "id": "z63Lb1o2Kbj6"
      },
      "source": [
        "#\n",
        "qr1 = np.fmax(qd_qmp,qd_qpo)\n",
        "qr2 = np.fmax(qd_qex,qd_qma)\n",
        "ag_r1 = np.fmax(r1, np.fmax(qr1, qr2))\n",
        "print(ag_r1)"
      ],
      "execution_count": null,
      "outputs": []
    },
    {
      "cell_type": "code",
      "metadata": {
        "id": "Y1Km_Tt8oxL-"
      },
      "source": [
        "# resultado defuzzificacao\n",
        "qd = fuzzy.defuzz(q, ag_r1, 'centroid')\n",
        "qd_act_r1 = fuzzy.interp_membership(q, ag_r1, qd) \n",
        "# valores\n",
        "print('Valor Quantidade de Detergente final')\n",
        "print('QD = ',qd)\n",
        "print('Altura = ',qd_act_r1)"
      ],
      "execution_count": null,
      "outputs": []
    },
    {
      "cell_type": "markdown",
      "metadata": {
        "id": "6Wm3uTWKq36v"
      },
      "source": [
        "### Gráfico"
      ]
    },
    {
      "cell_type": "code",
      "metadata": {
        "id": "GsuYBIqWqyjG"
      },
      "source": [
        "# Visualizando o gráfico final\n",
        "fig, ax0 = plt.subplots(figsize=(8, 3))\n",
        "\n",
        "ax0.plot(q, QMP, 'b', linewidth=0.5, linestyle='--', )\n",
        "ax0.plot(q, QPO, 'g', linewidth=0.5, linestyle='--')\n",
        "ax0.plot(q, QMO, 'r', linewidth=0.5, linestyle='--')\n",
        "ax0.plot(q, QEX, 'y', linewidth=0.5, linestyle='--')\n",
        "ax0.plot(q, QMA, 'k', linewidth=0.5, linestyle='--')\n",
        "ax0.fill_between(q, qd0, ag_r1, facecolor='Orange', alpha=0.7)\n",
        "ax0.plot([qd, qd], [0, qd_act_r1], 'k', linewidth=1.5, alpha=0.9)\n",
        "ax0.set_title('Agregado (linha)')\n",
        "\n",
        "# Turn off top/right axes\n",
        "for ax in (ax0,):\n",
        "    ax.spines['top'].set_visible(False)\n",
        "    ax.spines['right'].set_visible(False)\n",
        "    ax.get_xaxis().tick_bottom()\n",
        "    ax.get_yaxis().tick_left()\n",
        "\n",
        "plt.tight_layout()"
      ],
      "execution_count": null,
      "outputs": []
    }
  ]
}