{
 "cells": [
  {
   "cell_type": "markdown",
   "metadata": {},
   "source": [
    "# Redes Neurais - Funções de Ativação\n",
    "### Prof. Dr. Jorge Zavaleta\n",
    "##### e-mail: jorge.zavaleta@ppgi.ufrj.br\n",
    "---"
   ]
  },
  {
   "cell_type": "code",
   "execution_count": null,
   "metadata": {},
   "outputs": [],
   "source": [
    "# importanto bibliotecas\n",
    "import numpy as np\n",
    "import matplotlib.pyplot as plt"
   ]
  },
  {
   "cell_type": "code",
   "execution_count": null,
   "metadata": {},
   "outputs": [],
   "source": [
    "# Universo do discurso\n",
    "x = np.arange(-3,3,0.1)\n",
    "x"
   ]
  },
  {
   "cell_type": "code",
   "execution_count": null,
   "metadata": {},
   "outputs": [],
   "source": [
    "def limiar(v):\n",
    "    r = []\n",
    "    for x1 in v:\n",
    "        if x1>= 0:\n",
    "            r.append(1)\n",
    "        else:\n",
    "            r.append(0)\n",
    "            \n",
    "    return r"
   ]
  },
  {
   "cell_type": "code",
   "execution_count": null,
   "metadata": {},
   "outputs": [],
   "source": [
    "def lineal_partes(v):\n",
    "    r = []\n",
    "    for x1 in v:\n",
    "        if x1 >= 0.5:\n",
    "            r.append(1)\n",
    "        elif ((-0.5 < x1) and (x1 < 0.5)):\n",
    "            r.append(x1)\n",
    "        else:# (x1 <= -0.5):\n",
    "            r.append(-1)\n",
    "    return r"
   ]
  },
  {
   "cell_type": "code",
   "execution_count": null,
   "metadata": {},
   "outputs": [],
   "source": [
    "def sigmoide(a,v):\n",
    "    r = []\n",
    "    for x1 in v:\n",
    "        den = 1 + np.exp(-a*x1)\n",
    "        r.append(1/den)\n",
    "    return r"
   ]
  },
  {
   "cell_type": "code",
   "execution_count": null,
   "metadata": {},
   "outputs": [],
   "source": [
    "def signal(v):\n",
    "    r = []\n",
    "    for x1 in v:\n",
    "        if x1>0:\n",
    "            r.append(1)\n",
    "        elif x1==0:\n",
    "            r.append(0)\n",
    "        else:\n",
    "            r.append(-1)\n",
    "    return r"
   ]
  },
  {
   "cell_type": "markdown",
   "metadata": {},
   "source": [
    "## Gráficos da Funções"
   ]
  },
  {
   "cell_type": "code",
   "execution_count": null,
   "metadata": {},
   "outputs": [],
   "source": [
    "L = limiar(x)\n",
    "P = lineal_partes(x)\n",
    "S = sigmoide(2,x)\n",
    "S0 = signal(x)\n",
    "fig, graf = plt.subplots(nrows=2, ncols=2, figsize=(10,6))\n",
    "#\n",
    "graf[0,0].plot(x,L,'b',label='Limiar')\n",
    "graf[0,0].legend()\n",
    "#graf[0,0].grid()\n",
    "graf[0,1].plot(x,P,'b',label='Partes')\n",
    "graf[0,1].legend()\n",
    "#graf[0,1].grid()\n",
    "graf[1,0].plot(x,S,'b',label='Sigmoide')\n",
    "graf[1,0].legend()\n",
    "\n",
    "graf[1,1].plot(x,S0,'b',label='Signal')\n",
    "graf[1,1].legend()\n",
    "#plt.grid()\n",
    "plt.show()\n",
    "fig.savefig('factinacion.png')"
   ]
  },
  {
   "cell_type": "markdown",
   "metadata": {},
   "source": [
    "# Função Identidade"
   ]
  },
  {
   "cell_type": "code",
   "execution_count": null,
   "metadata": {},
   "outputs": [],
   "source": [
    "# identity function\n",
    "def identidade(v):\n",
    "    r=[]\n",
    "    for x in v:\n",
    "        r.append(x)\n",
    "    return r"
   ]
  },
  {
   "cell_type": "code",
   "execution_count": null,
   "metadata": {},
   "outputs": [],
   "source": [
    "x_id = np.arange(-2,2,0.1)\n",
    "print(x_id)"
   ]
  },
  {
   "cell_type": "code",
   "execution_count": null,
   "metadata": {},
   "outputs": [],
   "source": [
    "#\n",
    "v = identidade(x_id)\n",
    "plt.plot(x_id,v)\n",
    "plt.show();"
   ]
  },
  {
   "cell_type": "markdown",
   "metadata": {},
   "source": [
    "## Função Sign"
   ]
  },
  {
   "cell_type": "code",
   "execution_count": null,
   "metadata": {},
   "outputs": [],
   "source": [
    "# sign function\n",
    "v1 = np.sign(x_id)\n",
    "v1"
   ]
  },
  {
   "cell_type": "code",
   "execution_count": null,
   "metadata": {},
   "outputs": [],
   "source": [
    "plt.plot(x_id,v1)\n",
    "plt.show();"
   ]
  },
  {
   "cell_type": "markdown",
   "metadata": {},
   "source": [
    "# Função Sigmoide"
   ]
  },
  {
   "cell_type": "code",
   "execution_count": null,
   "metadata": {},
   "outputs": [],
   "source": [
    "xs = np.arange(-11,11,0.1)\n",
    "#xs"
   ]
  },
  {
   "cell_type": "code",
   "execution_count": null,
   "metadata": {},
   "outputs": [],
   "source": [
    "def sigmoide(v):\n",
    "    r = 1/(1+np.exp(-v))\n",
    "    return r"
   ]
  },
  {
   "cell_type": "code",
   "execution_count": null,
   "metadata": {},
   "outputs": [],
   "source": [
    "v2 = sigmoide(xs)\n",
    "plt.plot(xs,v2)\n",
    "plt.show();"
   ]
  },
  {
   "cell_type": "markdown",
   "metadata": {},
   "source": [
    "## Função tanh"
   ]
  },
  {
   "cell_type": "code",
   "execution_count": null,
   "metadata": {},
   "outputs": [],
   "source": [
    "ut = np.arange(-6,6,0.1)"
   ]
  },
  {
   "cell_type": "code",
   "execution_count": null,
   "metadata": {},
   "outputs": [],
   "source": [
    "def tanh(v):\n",
    "    num = np.exp(2*v)-1\n",
    "    den = np.exp(2*v)+1\n",
    "    r = num/den\n",
    "    return r"
   ]
  },
  {
   "cell_type": "code",
   "execution_count": null,
   "metadata": {},
   "outputs": [],
   "source": [
    "v3 = tanh(ut)\n",
    "v3"
   ]
  },
  {
   "cell_type": "code",
   "execution_count": null,
   "metadata": {},
   "outputs": [],
   "source": [
    "#\n",
    "plt.plot(ut,v3)\n",
    "plt.show();"
   ]
  },
  {
   "cell_type": "markdown",
   "metadata": {},
   "source": [
    "## Função ReLu (Rectified Lenear Unit)"
   ]
  },
  {
   "cell_type": "code",
   "execution_count": null,
   "metadata": {},
   "outputs": [],
   "source": [
    "ur = np.arange(-2,2,0.1)"
   ]
  },
  {
   "cell_type": "code",
   "execution_count": null,
   "metadata": {},
   "outputs": [],
   "source": [
    "def ReLu(v):\n",
    "    r = np.fmax(v,0)\n",
    "    return r"
   ]
  },
  {
   "cell_type": "code",
   "execution_count": null,
   "metadata": {},
   "outputs": [],
   "source": [
    "v4 = ReLu(ur)"
   ]
  },
  {
   "cell_type": "code",
   "execution_count": null,
   "metadata": {},
   "outputs": [],
   "source": [
    "#\n",
    "plt.plot(ur,v4)\n",
    "plt.show();"
   ]
  },
  {
   "cell_type": "markdown",
   "metadata": {},
   "source": [
    "## Função Hard Tanh"
   ]
  },
  {
   "cell_type": "code",
   "execution_count": null,
   "metadata": {},
   "outputs": [],
   "source": [
    "#\n",
    "def hard_t(v):\n",
    "    r = np.fmax(np.fmin(v,1),-1)\n",
    "    return r"
   ]
  },
  {
   "cell_type": "code",
   "execution_count": null,
   "metadata": {},
   "outputs": [],
   "source": [
    "v5 = hard_t(ur)"
   ]
  },
  {
   "cell_type": "code",
   "execution_count": null,
   "metadata": {},
   "outputs": [],
   "source": [
    "#\n",
    "plt.plot(ur,v5)\n",
    "plt.show();"
   ]
  },
  {
   "cell_type": "markdown",
   "metadata": {},
   "source": [
    "## Funções de Activação"
   ]
  },
  {
   "cell_type": "code",
   "execution_count": null,
   "metadata": {
    "scrolled": false
   },
   "outputs": [],
   "source": [
    "# graivo\n",
    "fig, fat = plt.subplots(nrows=2, ncols=3, figsize=(12,6))\n",
    "#\n",
    "fat[0,0].plot(x_id,v,'r',linewidth=2.0, label='Identidade')\n",
    "fat[0,0].set_xlabel('(a) identidade')\n",
    "fat[0,0].legend()\n",
    "#\n",
    "fat[0,1].plot(x_id,v1,'r',linewidth=2.0, label='Sign')\n",
    "fat[0,1].set_xlabel('(b) sign')\n",
    "fat[0,1].legend()\n",
    "#\n",
    "fat[0,2].plot(xs,v2,'r',linewidth=2.0, label='Sigmoide')\n",
    "fat[0,2].set_xlabel('(c) sigmoide')\n",
    "fat[0,2].legend()\n",
    "#\n",
    "fat[1,0].plot(ut,v3,'r',linewidth=2.0, label='Tanh')\n",
    "fat[1,0].set_xlabel('(d) tanh')\n",
    "fat[1,0].legend()\n",
    "#\n",
    "fat[1,1].plot(ur,v4,'r',linewidth=2.0, label='ReLu')\n",
    "fat[1,1].set_xlabel('(e) ReLu')\n",
    "fat[1,1].legend()\n",
    "#\n",
    "fat[1,2].plot(ur,v5,'r',linewidth=2.0,label='Hard Tanh')\n",
    "fat[1,2].set_xlabel('(f) Hard Tanh')\n",
    "fat[1,2].legend()\n",
    "\n",
    "#\n",
    "for ax in (fat[0,0],):\n",
    "    ax.spines['top'].set_visible(False)\n",
    "    ax.spines['right'].set_visible(False)\n",
    "    ax.get_xaxis().tick_bottom ()\n",
    "    ax.get_yaxis().tick_left ()\n",
    "#\n",
    "plt.tight_layout ()\n",
    "#fig.savefig('f_ati.png')"
   ]
  },
  {
   "cell_type": "code",
   "execution_count": null,
   "metadata": {},
   "outputs": [],
   "source": []
  }
 ],
 "metadata": {
  "kernelspec": {
   "display_name": "Python 3",
   "language": "python",
   "name": "python3"
  },
  "language_info": {
   "codemirror_mode": {
    "name": "ipython",
    "version": 3
   },
   "file_extension": ".py",
   "mimetype": "text/x-python",
   "name": "python",
   "nbconvert_exporter": "python",
   "pygments_lexer": "ipython3",
   "version": "3.7.9"
  }
 },
 "nbformat": 4,
 "nbformat_minor": 4
}
