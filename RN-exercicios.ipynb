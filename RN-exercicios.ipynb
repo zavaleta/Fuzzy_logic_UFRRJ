{
 "cells": [
  {
   "cell_type": "markdown",
   "metadata": {},
   "source": [
    "---\n",
    "# Redes Neurais\n",
    "#### Prof. Dr. Jorge Zavaleta\n",
    "##### E-mail: jorge.zavaleta@ppgi.ufrj.br\n",
    "---"
   ]
  },
  {
   "cell_type": "markdown",
   "metadata": {},
   "source": [
    "# Perceptron"
   ]
  },
  {
   "cell_type": "code",
   "execution_count": 1,
   "metadata": {},
   "outputs": [],
   "source": [
    "import numpy as np\n",
    "from sklearn.linear_model import Perceptron\n",
    "from matplotlib.colors import ListedColormap\n",
    "from sklearn.neural_network import MLPClassifier\n",
    "import matplotlib.pyplot as plt\n",
    "%matplotlib inline"
   ]
  },
  {
   "cell_type": "markdown",
   "metadata": {},
   "source": [
    "## Operador Lógico OR"
   ]
  },
  {
   "cell_type": "markdown",
   "metadata": {},
   "source": [
    "|x1  |x2  | y  |\n",
    "|:--:|:--:|:--:|\n",
    "| 0  | 0  |  0 |\n",
    "| 0  | 1  |  1 |\n",
    "| 1  | 0  |  1 |\n",
    "| 1  | 1  |  1 |"
   ]
  },
  {
   "cell_type": "markdown",
   "metadata": {},
   "source": [
    "## Entrada de Dados - x"
   ]
  },
  {
   "cell_type": "code",
   "execution_count": 8,
   "metadata": {},
   "outputs": [
    {
     "data": {
      "text/plain": [
       "(4, 2)"
      ]
     },
     "execution_count": 8,
     "metadata": {},
     "output_type": "execute_result"
    }
   ],
   "source": [
    "# entrada de dados \n",
    "X = np.array([[0, 0],[0 , 1], [1, 0],[1,1]])\n",
    "X.shape"
   ]
  },
  {
   "cell_type": "markdown",
   "metadata": {},
   "source": [
    "## Saída - y"
   ]
  },
  {
   "cell_type": "code",
   "execution_count": 9,
   "metadata": {},
   "outputs": [
    {
     "data": {
      "text/plain": [
       "(4,)"
      ]
     },
     "execution_count": 9,
     "metadata": {},
     "output_type": "execute_result"
    }
   ],
   "source": [
    "# saida final função OR\n",
    "y = np.array([0, 1, 1, 1])\n",
    "y.shape"
   ]
  },
  {
   "cell_type": "code",
   "execution_count": 10,
   "metadata": {},
   "outputs": [
    {
     "data": {
      "text/plain": [
       "array([0, 1, 1, 1])"
      ]
     },
     "execution_count": 10,
     "metadata": {},
     "output_type": "execute_result"
    }
   ],
   "source": [
    "# modificar a saida\n",
    "#y.ravel()"
   ]
  },
  {
   "cell_type": "markdown",
   "metadata": {},
   "source": [
    "## Graficando os dados"
   ]
  },
  {
   "cell_type": "code",
   "execution_count": 17,
   "metadata": {},
   "outputs": [
    {
     "name": "stdout",
     "output_type": "stream",
     "text": [
      "[0 1 1] [1 0 1]\n"
     ]
    }
   ],
   "source": [
    "# coordenadas\n",
    "# valor x=y=0\n",
    "x0 = X[0][0]\n",
    "y0 = X[0][1]\n",
    "# outros valores\n",
    "x1 = X[1:4,0] # x\n",
    "y1 = X[1:4,1] # y"
   ]
  },
  {
   "cell_type": "code",
   "execution_count": 20,
   "metadata": {},
   "outputs": [
    {
     "data": {
      "image/png": "[encoded data removed]",
      "text/plain": [
       "<Figure size 432x288 with 1 Axes>"
      ]
     },
     "metadata": {
      "needs_background": "light"
     },
     "output_type": "display_data"
    }
   ],
   "source": [
    "plt.scatter(x0,y0,color='red', marker='o', label='0', s=80)\n",
    "plt.scatter(x1,y1,color='blue', marker='x', label='1',s=80)\n",
    "plt.xlabel('X')\n",
    "plt.ylabel('Y')\n",
    "plt.title('Função Lógica OR')\n",
    "plt.legend(loc='upper center')\n",
    "plt.show()"
   ]
  },
  {
   "cell_type": "markdown",
   "metadata": {},
   "source": [
    "# Traçando o limite de decisão (Hiperplano)"
   ]
  },
  {
   "cell_type": "markdown",
   "metadata": {},
   "source": [
    "## Equação do Hiperplano"
   ]
  },
  {
   "cell_type": "markdown",
   "metadata": {},
   "source": [
    "---\n",
    "$x_{1}W_{1} + x_{2}W_{2} + b = 0 $\n",
    "\n",
    "$x_{1}W_{1} + x_{2}W_{2} = -b $\n",
    "\n",
    "$ x_{2}W_{2} = - x_{1}W_{1} -b $ \n",
    "\n",
    "$ x_{2} = - x_{1}\\frac{W_{1}}{W_{2}} -\\frac{b}{w_{2}} $\n",
    "\n",
    "Logo:\n",
    "$ x_{2} =  ax_{1} - R $, fazendo $ x_{2} =y $ e $x_{1} = x $ ; $a =-\\frac{W_{1}}{W_{2}}$ e $R = -\\frac{b}{W_{2}}$\n",
    "\n",
    "Temos a equação do HIPERPLANO:\n",
    "\n",
    "$ y = ax + R $\n",
    "---"
   ]
  },
  {
   "cell_type": "markdown",
   "metadata": {},
   "source": [
    "# Usando a Rede Perceptron"
   ]
  },
  {
   "cell_type": "code",
   "execution_count": 28,
   "metadata": {},
   "outputs": [],
   "source": [
    "# definindo a rede perceptron\n",
    "per = Perceptron(random_state=10, max_iter=1000, tol = 0.01, eta0=0.1)"
   ]
  },
  {
   "cell_type": "markdown",
   "metadata": {},
   "source": [
    "### Entrada de dados e predição dos valores"
   ]
  },
  {
   "cell_type": "code",
   "execution_count": 29,
   "metadata": {},
   "outputs": [
    {
     "data": {
      "text/plain": [
       "Perceptron(eta0=0.1, random_state=10, tol=0.01)"
      ]
     },
     "execution_count": 29,
     "metadata": {},
     "output_type": "execute_result"
    }
   ],
   "source": [
    "# Entrada = X\n",
    "# saida = y\n",
    "per.fit(X,y)"
   ]
  },
  {
   "cell_type": "markdown",
   "metadata": {},
   "source": [
    "### Testando os valores"
   ]
  },
  {
   "cell_type": "code",
   "execution_count": 36,
   "metadata": {},
   "outputs": [
    {
     "name": "stdout",
     "output_type": "stream",
     "text": [
      "Saída:\n",
      "y = 1\n"
     ]
    }
   ],
   "source": [
    "# saida de dados = y\n",
    "saida = per.predict([[1, 0]])\n",
    "print('Saída:')\n",
    "print('y =',saida[0])"
   ]
  },
  {
   "cell_type": "code",
   "execution_count": 34,
   "metadata": {},
   "outputs": [
    {
     "name": "stdout",
     "output_type": "stream",
     "text": [
      "y = 0\n"
     ]
    }
   ],
   "source": [
    "# x = [0,0]\n",
    "s1 = per.predict([[0, 0]])\n",
    "print('y =',s1[0])"
   ]
  },
  {
   "cell_type": "markdown",
   "metadata": {},
   "source": [
    "### Visualizando os resultados totais"
   ]
  },
  {
   "cell_type": "code",
   "execution_count": 37,
   "metadata": {},
   "outputs": [
    {
     "name": "stdout",
     "output_type": "stream",
     "text": [
      "Predição = [0 1 1 1]\n",
      "Atual    = [0 1 1 1]\n",
      "Acurácia = 100.0%\n"
     ]
    }
   ],
   "source": [
    "# Visualizando os resultados\n",
    "print(\"Predição = \" + str(per.predict(X)))\n",
    "print(\"Atual    = \" + str(y))\n",
    "print(\"Acurácia = \" + str(per.score(X, y)*100) + \"%\")"
   ]
  },
  {
   "cell_type": "markdown",
   "metadata": {},
   "source": [
    "###  Verificando o valor dos pesos 'coef_'"
   ]
  },
  {
   "cell_type": "code",
   "execution_count": 47,
   "metadata": {},
   "outputs": [
    {
     "name": "stdout",
     "output_type": "stream",
     "text": [
      "[w1, w2] = [0.2, 0.2]\n",
      "0.2\n"
     ]
    }
   ],
   "source": [
    "# verificando os pesos\n",
    "[w1,w2] = per.coef_[0]\n",
    "print('[w1, w2] =',[w1,w2])"
   ]
  },
  {
   "cell_type": "markdown",
   "metadata": {},
   "source": [
    "### Verificando o bias"
   ]
  },
  {
   "cell_type": "code",
   "execution_count": 40,
   "metadata": {},
   "outputs": [
    {
     "name": "stdout",
     "output_type": "stream",
     "text": [
      "Bias = -0.1\n"
     ]
    }
   ],
   "source": [
    "# bias = b\n",
    "b = per.intercept_[0]\n",
    "print('Bias =',b)"
   ]
  },
  {
   "cell_type": "code",
   "execution_count": 42,
   "metadata": {},
   "outputs": [
    {
     "name": "stdout",
     "output_type": "stream",
     "text": [
      "Escores do Perceptron OR: [-0.1  0.1  0.1  0.3]\n"
     ]
    }
   ],
   "source": [
    "# scores do percenprom\n",
    "pred_scores = per.decision_function(XX)\n",
    "print(\"Escores do Perceptron OR: {}\".format(pred_scores))"
   ]
  },
  {
   "cell_type": "markdown",
   "metadata": {},
   "source": [
    "## Calculando o hiperplano "
   ]
  },
  {
   "cell_type": "code",
   "execution_count": 74,
   "metadata": {},
   "outputs": [],
   "source": [
    "# primeira forma\n",
    "def reta(plt, perceptron):\n",
    "    # y limites\n",
    "    ymin, ymax = plt.ylim()\n",
    "    # pesos\n",
    "    w = perceptron.coef_[0]\n",
    "    # coeficiente da reta\n",
    "    a = -w[0] / w[1]\n",
    "    # termo independente da reta\n",
    "    R = -(perceptron.intercept_[0]) / w[1]\n",
    "    # calculando os valores para x\n",
    "    xl = np.linspace(ymin, ymax)\n",
    "    # calculando valores para y\n",
    "    yl =  a * xl + R\n",
    "    return [xl,yl]"
   ]
  },
  {
   "cell_type": "markdown",
   "metadata": {},
   "source": [
    "## Calculando o limite de decisção"
   ]
  },
  {
   "cell_type": "code",
   "execution_count": 75,
   "metadata": {},
   "outputs": [],
   "source": [
    "def plot_decision_boundary(classifier, X, y, title):\n",
    "    xmin, xmax = np.min(X[:, 0]) - 0.05, np.max(X[:, 0]) + 0.05\n",
    "    ymin, ymax = np.min(X[:, 1]) - 0.05, np.max(X[:, 1]) + 0.05\n",
    "    step = 0.01\n",
    "    cm = plt.cm.coolwarm_r\n",
    "    #cm = plt.cm.RdBu\n",
    "    thr = 0.0\n",
    "    xx, yy = np.meshgrid(np.arange(xmin - thr, xmax + thr, step), np.arange(ymin - thr, ymax + thr, step))\n",
    "    #\n",
    "    if hasattr(classifier, 'decision_function'):\n",
    "        Z = classifier.decision_function(np.hstack((xx.ravel()[:, np.newaxis], yy.ravel()[:, np.newaxis])))\n",
    "    else:\n",
    "        Z = classifier.predict_proba(np.hstack((xx.ravel()[:, np.newaxis], yy.ravel()[:, np.newaxis])))[:, 1]\n",
    "        \n",
    "    Z = Z.reshape(xx.shape)\n",
    "    \n",
    "    plt.contourf(xx, yy, Z, cmap=cm, alpha=0.8)\n",
    "    plt.colorbar()\n",
    "    plt.scatter(X[:, 0], X[:, 1], c=y, cmap=ListedColormap(['#FF0000', '#0000FF']), alpha=0.6)\n",
    "    plt.xlim(xmin, xmax)\n",
    "    plt.ylim(ymin, ymax)\n",
    "    plt.title(title)"
   ]
  },
  {
   "cell_type": "markdown",
   "metadata": {},
   "source": [
    "## Graficando a separação das classes"
   ]
  },
  {
   "cell_type": "code",
   "execution_count": 80,
   "metadata": {},
   "outputs": [
    {
     "data": {
      "image/png": "[encoded data removed]",
      "text/plain": [
       "<Figure size 432x288 with 1 Axes>"
      ]
     },
     "metadata": {
      "needs_background": "light"
     },
     "output_type": "display_data"
    }
   ],
   "source": [
    "## Calculando o hiperplano\n",
    "plt.scatter(XX[0][0], XX[0][1],color='red', marker='o', label='0',s=80)\n",
    "plt.scatter(XX[1:4,0], XX[1:4,1],color='blue', marker='x', label='1',s=80)\n",
    "val = reta(plt,per)\n",
    "xl = val[0]\n",
    "yl = val[1]\n",
    "# grafica a linha\n",
    "plt.plot(xl,yl, 'k', label='Reta')\n",
    "#\n",
    "plt.title('función logica OR')\n",
    "plt.legend(loc='upper center')\n",
    "plt.show()"
   ]
  },
  {
   "cell_type": "code",
   "execution_count": 82,
   "metadata": {},
   "outputs": [
    {
     "data": {
      "image/png": "[encoded data removed]",
      "text/plain": [
       "<Figure size 432x288 with 2 Axes>"
      ]
     },
     "metadata": {
      "needs_background": "light"
     },
     "output_type": "display_data"
    }
   ],
   "source": [
    "## Calculando o hiperplano\n",
    "plt.scatter(X[0][0], X[0][1],color='red', marker='o', label='0',s=100)\n",
    "plt.scatter(X[1:4,0], X[1:4,1],color='blue', marker='x', label='1',s=100)\n",
    "#\n",
    "plot_decision_boundary(per,X,y,'función lógica OR')\n",
    "#\n",
    "plt.legend(loc='upper center')\n",
    "plt.show()"
   ]
  },
  {
   "cell_type": "markdown",
   "metadata": {},
   "source": [
    "Ao plotar o limite de decisão do Perceptron. A barra de cores à esquerda mostra as pontuações obtidas por $ w ⋅ x + b.$ Cada cor de ponto indica uma classe diferente (azul = 1, vermelho = 0)."
   ]
  },
  {
   "cell_type": "markdown",
   "metadata": {},
   "source": [
    "# Exercícios"
   ]
  },
  {
   "cell_type": "markdown",
   "metadata": {},
   "source": [
    "1. Implementar as redes neurais para os opradpres AND e XOR\n",
    "2. Pesquisa: O que acontece com o operador XOR? Poderia implementar uma solução? "
   ]
  },
  {
   "cell_type": "markdown",
   "metadata": {},
   "source": [
    "# Exemplo IRIS"
   ]
  },
  {
   "cell_type": "code",
   "execution_count": 145,
   "metadata": {
    "scrolled": true
   },
   "outputs": [
    {
     "data": {
      "text/html": [
       "<div>\n",
       "<style scoped>\n",
       "    .dataframe tbody tr th:only-of-type {\n",
       "        vertical-align: middle;\n",
       "    }\n",
       "\n",
       "    .dataframe tbody tr th {\n",
       "        vertical-align: top;\n",
       "    }\n",
       "\n",
       "    .dataframe thead th {\n",
       "        text-align: right;\n",
       "    }\n",
       "</style>\n",
       "<table border=\"1\" class=\"dataframe\">\n",
       "  <thead>\n",
       "    <tr style=\"text-align: right;\">\n",
       "      <th></th>\n",
       "      <th>0</th>\n",
       "      <th>1</th>\n",
       "      <th>2</th>\n",
       "      <th>3</th>\n",
       "      <th>4</th>\n",
       "    </tr>\n",
       "  </thead>\n",
       "  <tbody>\n",
       "    <tr>\n",
       "      <th>0</th>\n",
       "      <td>sepal_length</td>\n",
       "      <td>sepal_width</td>\n",
       "      <td>petal_length</td>\n",
       "      <td>petal_width</td>\n",
       "      <td>species</td>\n",
       "    </tr>\n",
       "    <tr>\n",
       "      <th>1</th>\n",
       "      <td>5.1</td>\n",
       "      <td>3.5</td>\n",
       "      <td>1.4</td>\n",
       "      <td>0.2</td>\n",
       "      <td>setosa</td>\n",
       "    </tr>\n",
       "    <tr>\n",
       "      <th>2</th>\n",
       "      <td>4.9</td>\n",
       "      <td>3.0</td>\n",
       "      <td>1.4</td>\n",
       "      <td>0.2</td>\n",
       "      <td>setosa</td>\n",
       "    </tr>\n",
       "    <tr>\n",
       "      <th>3</th>\n",
       "      <td>4.7</td>\n",
       "      <td>3.2</td>\n",
       "      <td>1.3</td>\n",
       "      <td>0.2</td>\n",
       "      <td>setosa</td>\n",
       "    </tr>\n",
       "    <tr>\n",
       "      <th>4</th>\n",
       "      <td>4.6</td>\n",
       "      <td>3.1</td>\n",
       "      <td>1.5</td>\n",
       "      <td>0.2</td>\n",
       "      <td>setosa</td>\n",
       "    </tr>\n",
       "  </tbody>\n",
       "</table>\n",
       "</div>"
      ],
      "text/plain": [
       "              0            1             2            3        4\n",
       "0  sepal_length  sepal_width  petal_length  petal_width  species\n",
       "1           5.1          3.5           1.4          0.2   setosa\n",
       "2           4.9          3.0           1.4          0.2   setosa\n",
       "3           4.7          3.2           1.3          0.2   setosa\n",
       "4           4.6          3.1           1.5          0.2   setosa"
      ]
     },
     "execution_count": 145,
     "metadata": {},
     "output_type": "execute_result"
    }
   ],
   "source": [
    "import pandas as pd\n",
    "df = pd.read_csv('data/iris.csv', header=None)\n",
    "df.head()\n",
    "#df.tail()"
   ]
  },
  {
   "cell_type": "code",
   "execution_count": 146,
   "metadata": {},
   "outputs": [
    {
     "name": "stdout",
     "output_type": "stream",
     "text": [
      "Classes (species):\n",
      "['species' 'setosa' 'setosa' 'setosa' 'setosa' 'setosa' 'setosa' 'setosa'\n",
      " 'setosa' 'setosa' 'setosa' 'setosa' 'setosa' 'setosa' 'setosa' 'setosa'\n",
      " 'setosa' 'setosa' 'setosa' 'setosa' 'setosa' 'setosa' 'setosa' 'setosa'\n",
      " 'setosa' 'setosa' 'setosa' 'setosa' 'setosa' 'setosa' 'setosa' 'setosa'\n",
      " 'setosa' 'setosa' 'setosa' 'setosa' 'setosa' 'setosa' 'setosa' 'setosa'\n",
      " 'setosa' 'setosa' 'setosa' 'setosa' 'setosa' 'setosa' 'setosa' 'setosa'\n",
      " 'setosa' 'setosa' 'setosa' 'versicolor' 'versicolor' 'versicolor'\n",
      " 'versicolor' 'versicolor' 'versicolor' 'versicolor' 'versicolor'\n",
      " 'versicolor' 'versicolor' 'versicolor' 'versicolor' 'versicolor'\n",
      " 'versicolor' 'versicolor' 'versicolor' 'versicolor' 'versicolor'\n",
      " 'versicolor' 'versicolor' 'versicolor' 'versicolor' 'versicolor'\n",
      " 'versicolor' 'versicolor' 'versicolor' 'versicolor' 'versicolor'\n",
      " 'versicolor' 'versicolor' 'versicolor' 'versicolor' 'versicolor'\n",
      " 'versicolor' 'versicolor' 'versicolor' 'versicolor' 'versicolor'\n",
      " 'versicolor' 'versicolor' 'versicolor' 'versicolor' 'versicolor'\n",
      " 'versicolor' 'versicolor' 'versicolor' 'versicolor' 'versicolor'\n",
      " 'versicolor']\n"
     ]
    }
   ],
   "source": [
    "# verificando valores\n",
    "#print(df.shape)\n",
    "cl = df.iloc[0:100, 4].values\n",
    "print('Classes (species):')\n",
    "print(cl)"
   ]
  },
  {
   "cell_type": "code",
   "execution_count": 169,
   "metadata": {},
   "outputs": [
    {
     "name": "stdout",
     "output_type": "stream",
     "text": [
      "Vetor:\n",
      "(100,)\n"
     ]
    }
   ],
   "source": [
    "# Arrumando os dados\n",
    "# objetivo final\n",
    "cy = np.where(cl == 'setosa', -1, 1)\n",
    "print('Vetor:')\n",
    "print(cy.shape)"
   ]
  },
  {
   "cell_type": "code",
   "execution_count": 170,
   "metadata": {},
   "outputs": [
    {
     "name": "stdout",
     "output_type": "stream",
     "text": [
      "Valores:\n",
      "(100, 2)\n"
     ]
    }
   ],
   "source": [
    "# valores de entrada\n",
    "I = df.iloc[0:101, [0, 2]].values\n",
    "print('Valores:')\n",
    "new_I = np.array(I[1:])\n",
    "V = []\n",
    "for i,j in new_I:\n",
    "    V.append([float(i),float(j)])\n",
    "XX = np.array(V)\n",
    "print(XX.shape)"
   ]
  },
  {
   "cell_type": "code",
   "execution_count": 171,
   "metadata": {},
   "outputs": [
    {
     "data": {
      "image/png": "[encoded data removed]",
      "text/plain": [
       "<Figure size 432x288 with 1 Axes>"
      ]
     },
     "metadata": {
      "needs_background": "light"
     },
     "output_type": "display_data"
    }
   ],
   "source": [
    "# Graficando\n",
    "plt.scatter(XX[cy==1, 0], XX[cy==1, 1],color='red', marker='o', label='setosa')\n",
    "plt.scatter(XX[cy==-1, 0], XX[cy==-1, 1], color='blue', marker='x', label='versicolor')\n",
    "plt.xlabel('Comprimento da pétala')\n",
    "plt.ylabel('Comprimento da sépala ')\n",
    "plt.legend(loc='upper left')\n",
    "plt.show()"
   ]
  },
  {
   "cell_type": "code",
   "execution_count": 172,
   "metadata": {
    "scrolled": true
   },
   "outputs": [
    {
     "data": {
      "text/plain": [
       "Perceptron(eta0=0.1, max_iter=10)"
      ]
     },
     "execution_count": 172,
     "metadata": {},
     "output_type": "execute_result"
    }
   ],
   "source": [
    "ppn = Perceptron(eta0=0.1, max_iter=10)\n",
    "ppn.fit(XX, cy)"
   ]
  },
  {
   "cell_type": "markdown",
   "metadata": {},
   "source": [
    "## Graficar o Hiperplano\n",
    "Observe o gráfico, existe algum erro? Cómo poderia ser resolvido?"
   ]
  },
  {
   "cell_type": "code",
   "execution_count": null,
   "metadata": {},
   "outputs": [],
   "source": []
  }
 ],
 "metadata": {
  "kernelspec": {
   "display_name": "Python 3",
   "language": "python",
   "name": "python3"
  },
  "language_info": {
   "codemirror_mode": {
    "name": "ipython",
    "version": 3
   },
   "file_extension": ".py",
   "mimetype": "text/x-python",
   "name": "python",
   "nbconvert_exporter": "python",
   "pygments_lexer": "ipython3",
   "version": "3.7.9"
  }
 },
 "nbformat": 4,
 "nbformat_minor": 2
}
