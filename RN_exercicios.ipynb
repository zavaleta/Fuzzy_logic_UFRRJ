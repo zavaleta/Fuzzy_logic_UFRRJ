{
  "nbformat": 4,
  "nbformat_minor": 0,
  "metadata": {
    "kernelspec": {
      "display_name": "Python 3",
      "language": "python",
      "name": "python3"
    },
    "language_info": {
      "codemirror_mode": {
        "name": "ipython",
        "version": 3
      },
      "file_extension": ".py",
      "mimetype": "text/x-python",
      "name": "python",
      "nbconvert_exporter": "python",
      "pygments_lexer": "ipython3",
      "version": "3.7.9"
    },
    "colab": {
      "name": "RN_exercicios.ipynb",
      "provenance": [],
      "include_colab_link": true
    }
  },
  "cells": [
    {
      "cell_type": "markdown",
      "metadata": {
        "id": "view-in-github",
        "colab_type": "text"
      },
      "source": [
        "<a href=\"https://colab.research.google.com/github/zavaleta/Fuzzy_logic_UFRRJ/blob/main/RN_exercicios.ipynb\" target=\"_parent\"><img src=\"https://colab.research.google.com/assets/colab-badge.svg\" alt=\"Open In Colab\"/></a>"
      ]
    },
    {
      "cell_type": "markdown",
      "metadata": {
        "id": "_MBu0YC_Df34"
      },
      "source": [
        "---\n",
        "# Redes Neurais\n",
        "#### Prof. Dr. Jorge Zavaleta\n",
        "##### E-mail: jorge.zavaleta@ppgi.ufrj.br\n",
        "---"
      ]
    },
    {
      "cell_type": "markdown",
      "metadata": {
        "id": "GU5MijtbDf3-"
      },
      "source": [
        "# Perceptron"
      ]
    },
    {
      "cell_type": "code",
      "metadata": {
        "id": "jd-RMfN5Df4A"
      },
      "source": [
        "import numpy as np\n",
        "from sklearn.linear_model import Perceptron\n",
        "from matplotlib.colors import ListedColormap\n",
        "from sklearn.neural_network import MLPClassifier\n",
        "import matplotlib.pyplot as plt\n",
        "%matplotlib inline"
      ],
      "execution_count": null,
      "outputs": []
    },
    {
      "cell_type": "markdown",
      "metadata": {
        "id": "CII6H8nfDf4I"
      },
      "source": [
        "## Operador Lógico OR"
      ]
    },
    {
      "cell_type": "markdown",
      "metadata": {
        "id": "kGesD_P0Df4J"
      },
      "source": [
        "|x1  |x2  | y  |\n",
        "|:--:|:--:|:--:|\n",
        "| 0  | 0  |  0 |\n",
        "| 0  | 1  |  1 |\n",
        "| 1  | 0  |  1 |\n",
        "| 1  | 1  |  1 |"
      ]
    },
    {
      "cell_type": "markdown",
      "metadata": {
        "id": "dXG0iJtVDf4K"
      },
      "source": [
        "## Entrada de Dados - x"
      ]
    },
    {
      "cell_type": "code",
      "metadata": {
        "id": "kHUhrYXaDf4L",
        "colab": {
          "base_uri": "https://localhost:8080/"
        },
        "outputId": "4b7c1821-61d0-40ec-b8fa-eee0ca2bf78b"
      },
      "source": [
        "# entrada de dados \n",
        "X = np.array([[0, 0],[0 , 1], [1, 0],[1,1]])\n",
        "X.shape"
      ],
      "execution_count": null,
      "outputs": [
        {
          "output_type": "execute_result",
          "data": {
            "text/plain": [
              "(4, 2)"
            ]
          },
          "metadata": {
            "tags": []
          },
          "execution_count": 2
        }
      ]
    },
    {
      "cell_type": "markdown",
      "metadata": {
        "id": "01axbl22Df4R"
      },
      "source": [
        "## Saída - y"
      ]
    },
    {
      "cell_type": "code",
      "metadata": {
        "id": "38n_3DLIDf4m",
        "colab": {
          "base_uri": "https://localhost:8080/"
        },
        "outputId": "6446a0bb-b3a9-4cc2-8cf5-861de33f0607"
      },
      "source": [
        "# saida final função OR\n",
        "y = np.array([0, 1, 1, 1])\n",
        "y.shape"
      ],
      "execution_count": null,
      "outputs": [
        {
          "output_type": "execute_result",
          "data": {
            "text/plain": [
              "(4,)"
            ]
          },
          "metadata": {
            "tags": []
          },
          "execution_count": 3
        }
      ]
    },
    {
      "cell_type": "code",
      "metadata": {
        "id": "mrIwmCtlDf4s"
      },
      "source": [
        "# modificar a saida\n",
        "#y.ravel()"
      ],
      "execution_count": null,
      "outputs": []
    },
    {
      "cell_type": "markdown",
      "metadata": {
        "id": "yUQ_dMzYDf4w"
      },
      "source": [
        "## Graficando os dados"
      ]
    },
    {
      "cell_type": "code",
      "metadata": {
        "id": "cYc5QpSODf4y",
        "colab": {
          "base_uri": "https://localhost:8080/"
        },
        "outputId": "acbd2a40-d869-46cc-ee05-83cbc1128bc4"
      },
      "source": [
        "# coordenadas\n",
        "# valor x=y=0\n",
        "x0 = X[0][0]\n",
        "y0 = X[0][1]\n",
        "print([x0,y0])\n",
        "# outros valores\n",
        "x1 = X[1:4,0] # x\n",
        "y1 = X[1:4,1] # y\n",
        "print(x1,y1)"
      ],
      "execution_count": null,
      "outputs": [
        {
          "output_type": "stream",
          "text": [
            "[0, 0]\n",
            "[0 1 1] [1 0 1]\n"
          ],
          "name": "stdout"
        }
      ]
    },
    {
      "cell_type": "code",
      "metadata": {
        "id": "kzQaX1hxDf43",
        "colab": {
          "base_uri": "https://localhost:8080/",
          "height": 295
        },
        "outputId": "27f768c6-d7b5-4e1c-a676-987c26d7e90c"
      },
      "source": [
        "plt.scatter(x0,y0,color='red', marker='o', label='0', s=80)\n",
        "plt.scatter(x1,y1,color='blue', marker='x', label='1',s=80)\n",
        "plt.xlabel('X')\n",
        "plt.ylabel('Y')\n",
        "plt.title('Função Lógica OR')\n",
        "plt.legend(loc='upper center')\n",
        "plt.show()"
      ],
      "execution_count": null,
      "outputs": [
        {
          "output_type": "display_data",
          "data": {
            "image/png": "[encoded data removed]",
            "text/plain": [
              "<Figure size 432x288 with 1 Axes>"
            ]
          },
          "metadata": {
            "tags": [],
            "needs_background": "light"
          }
        }
      ]
    },
    {
      "cell_type": "markdown",
      "metadata": {
        "id": "NwFfN9GODf48"
      },
      "source": [
        "# Traçando o limite de decisão (Hiperplano)"
      ]
    },
    {
      "cell_type": "markdown",
      "metadata": {
        "id": "iDGe2mqrDf49"
      },
      "source": [
        "## Equação do Hiperplano"
      ]
    },
    {
      "cell_type": "markdown",
      "metadata": {
        "id": "OawcMJfiDf4-"
      },
      "source": [
        "\n",
        "$x_{1}W_{1} + x_{2}W_{2} + b = 0 $\n",
        "\n",
        "$x_{1}W_{1} + x_{2}W_{2} = -b $\n",
        "\n",
        "$ x_{2}W_{2} = - x_{1}W_{1} -b $ \n",
        "\n",
        "$ x_{2} = - x_{1}\\frac{W_{1}}{W_{2}} -\\frac{b}{w_{2}} $\n",
        "\n",
        "Logo:\n",
        "$ x_{2} =  ax_{1} - R $, fazendo $ x_{2} =y $ e $x_{1} = x $ ; $a =-\\frac{W_{1}}{W_{2}}$ e $R = -\\frac{b}{W_{2}}$\n",
        "\n",
        "Temos a equação do HIPERPLANO:\n",
        "\n",
        "$ y = ax + R $\n"
      ]
    },
    {
      "cell_type": "markdown",
      "metadata": {
        "id": "Kn6T_5htDf4_"
      },
      "source": [
        "# Usando a Rede Perceptron"
      ]
    },
    {
      "cell_type": "code",
      "metadata": {
        "id": "u3VrOICUDf5A"
      },
      "source": [
        "# definindo a rede perceptron\n",
        "per = Perceptron(random_state=10, max_iter=1000, tol = 0.01, eta0=0.1)"
      ],
      "execution_count": null,
      "outputs": []
    },
    {
      "cell_type": "markdown",
      "metadata": {
        "id": "LDYdZo7HDf5D"
      },
      "source": [
        "### Entrada de dados e predição dos valores"
      ]
    },
    {
      "cell_type": "code",
      "metadata": {
        "id": "9DuNpkiQDf5F",
        "colab": {
          "base_uri": "https://localhost:8080/"
        },
        "outputId": "cda5fe80-8983-49d0-ef4d-b6e922af7f7f"
      },
      "source": [
        "# Entrada = X\n",
        "# saida = y\n",
        "per.fit(X,y)"
      ],
      "execution_count": null,
      "outputs": [
        {
          "output_type": "execute_result",
          "data": {
            "text/plain": [
              "Perceptron(alpha=0.0001, class_weight=None, early_stopping=False, eta0=0.1,\n",
              "           fit_intercept=True, max_iter=1000, n_iter_no_change=5, n_jobs=None,\n",
              "           penalty=None, random_state=10, shuffle=True, tol=0.01,\n",
              "           validation_fraction=0.1, verbose=0, warm_start=False)"
            ]
          },
          "metadata": {
            "tags": []
          },
          "execution_count": 8
        }
      ]
    },
    {
      "cell_type": "markdown",
      "metadata": {
        "id": "CnQEGIzsDf5I"
      },
      "source": [
        "### Prognóstico dos valores"
      ]
    },
    {
      "cell_type": "code",
      "metadata": {
        "id": "Fx40KlqYDf5J",
        "colab": {
          "base_uri": "https://localhost:8080/"
        },
        "outputId": "538c1385-e182-4827-9230-c5e9669c1413"
      },
      "source": [
        "# saida de dados = y\n",
        "saida = per.predict([[1, 1]])\n",
        "print('Saída:')\n",
        "print('y =',saida[0])"
      ],
      "execution_count": null,
      "outputs": [
        {
          "output_type": "stream",
          "text": [
            "Saída:\n",
            "y = 1\n"
          ],
          "name": "stdout"
        }
      ]
    },
    {
      "cell_type": "code",
      "metadata": {
        "id": "qYu2_J9SDf5M",
        "colab": {
          "base_uri": "https://localhost:8080/"
        },
        "outputId": "3c6644ff-ab64-4873-d60d-12af1459f119"
      },
      "source": [
        "# x = [0,0]\n",
        "s1 = per.predict([[0, 0]])\n",
        "print('y =',s1[0])"
      ],
      "execution_count": null,
      "outputs": [
        {
          "output_type": "stream",
          "text": [
            "y = 0\n"
          ],
          "name": "stdout"
        }
      ]
    },
    {
      "cell_type": "markdown",
      "metadata": {
        "id": "82QL2VrLDf5Q"
      },
      "source": [
        "### Visualizando os resultados totais"
      ]
    },
    {
      "cell_type": "code",
      "metadata": {
        "id": "R647V2QCDf5Q",
        "colab": {
          "base_uri": "https://localhost:8080/"
        },
        "outputId": "8c08a265-3d14-4bf0-9885-07528366330c"
      },
      "source": [
        "# Visualizando os resultados\n",
        "print(\"Predição = \" + str(per.predict(X)))\n",
        "print(\"Atual    = \" + str(y))\n",
        "print(\"Acurácia = \" + str(per.score(X, y)*100) + \"%\")"
      ],
      "execution_count": null,
      "outputs": [
        {
          "output_type": "stream",
          "text": [
            "Predição = [0 1 1 1]\n",
            "Atual    = [0 1 1 1]\n",
            "Acurácia = 100.0%\n"
          ],
          "name": "stdout"
        }
      ]
    },
    {
      "cell_type": "markdown",
      "metadata": {
        "id": "JuGVfoXWDf5T"
      },
      "source": [
        "###  Verificando o valor dos pesos 'coef_'"
      ]
    },
    {
      "cell_type": "code",
      "metadata": {
        "id": "OJ0_SgIBDf5U",
        "colab": {
          "base_uri": "https://localhost:8080/"
        },
        "outputId": "f3d0c61e-d1f0-4f2d-fdc5-0208f8ab49eb"
      },
      "source": [
        "# verificando os pesos\n",
        "[w1,w2] = per.coef_[0]\n",
        "print('[w1, w2] =',[w1,w2])"
      ],
      "execution_count": null,
      "outputs": [
        {
          "output_type": "stream",
          "text": [
            "[w1, w2] = [0.2, 0.2]\n"
          ],
          "name": "stdout"
        }
      ]
    },
    {
      "cell_type": "markdown",
      "metadata": {
        "id": "FKpTZQGSDf5Z"
      },
      "source": [
        "### Verificando o bias"
      ]
    },
    {
      "cell_type": "code",
      "metadata": {
        "id": "7R32_cLjDf5a",
        "colab": {
          "base_uri": "https://localhost:8080/"
        },
        "outputId": "0c422c7d-d20d-4471-f729-cf426dbd8908"
      },
      "source": [
        "# bias = b\n",
        "b = per.intercept_[0]\n",
        "print('Bias =',b)"
      ],
      "execution_count": null,
      "outputs": [
        {
          "output_type": "stream",
          "text": [
            "Bias = -0.1\n"
          ],
          "name": "stdout"
        }
      ]
    },
    {
      "cell_type": "code",
      "metadata": {
        "id": "Vjfsk5w4Df5g",
        "colab": {
          "base_uri": "https://localhost:8080/"
        },
        "outputId": "6fc750f5-0ccc-403e-8f4f-49d6c77f3dd8"
      },
      "source": [
        "# scores do perceptron\n",
        "pred_scores = per.decision_function(X)\n",
        "print(\"Escores do Perceptron OR: {}\".format(pred_scores))"
      ],
      "execution_count": null,
      "outputs": [
        {
          "output_type": "stream",
          "text": [
            "Escores do Perceptron OR: [-0.1  0.1  0.1  0.3]\n"
          ],
          "name": "stdout"
        }
      ]
    },
    {
      "cell_type": "code",
      "metadata": {
        "id": "SguTL6UdtS42",
        "colab": {
          "base_uri": "https://localhost:8080/"
        },
        "outputId": "80075a34-0ed9-4194-b548-c2d4a5100c97"
      },
      "source": [
        "# Label das classes\n",
        "print(per.classes_)"
      ],
      "execution_count": null,
      "outputs": [
        {
          "output_type": "stream",
          "text": [
            "[0 1]\n"
          ],
          "name": "stdout"
        }
      ]
    },
    {
      "cell_type": "code",
      "metadata": {
        "id": "0gfQEUD9tppj",
        "colab": {
          "base_uri": "https://localhost:8080/"
        },
        "outputId": "2c09f93a-9c26-456c-f343-062cf4ce62da"
      },
      "source": [
        "# numero de atualizacoes\n",
        "print(per.t_)"
      ],
      "execution_count": null,
      "outputs": [
        {
          "output_type": "stream",
          "text": [
            "29.0\n"
          ],
          "name": "stdout"
        }
      ]
    },
    {
      "cell_type": "markdown",
      "metadata": {
        "id": "aUAZz0HXDf5k"
      },
      "source": [
        "## Calculando o hiperplano "
      ]
    },
    {
      "cell_type": "code",
      "metadata": {
        "id": "VMlpumSTDf5k"
      },
      "source": [
        "# primeira forma\n",
        "def reta(plt, perceptron):\n",
        "    # y limites\n",
        "    ymin, ymax = plt.ylim()\n",
        "    # pesos\n",
        "    w = perceptron.coef_[0]\n",
        "    # coeficiente da reta\n",
        "    a = -w[0] / w[1]\n",
        "    # termo independente da reta\n",
        "    R = -(perceptron.intercept_[0]) / w[1]\n",
        "    # calculando os valores para x\n",
        "    xl = np.linspace(ymin, ymax)\n",
        "    # calculando valores para y\n",
        "    yl =  a * xl + R\n",
        "    return [xl,yl]"
      ],
      "execution_count": null,
      "outputs": []
    },
    {
      "cell_type": "markdown",
      "metadata": {
        "id": "vGnj8viCDf5p"
      },
      "source": [
        "## Calculando o limite de decisção"
      ]
    },
    {
      "cell_type": "code",
      "metadata": {
        "id": "N0zhERXKDf5q"
      },
      "source": [
        "def plot_decision_boundary(classifier, X, y, title):\n",
        "    xmin, xmax = np.min(X[:, 0]) - 0.05, np.max(X[:, 0]) + 0.05\n",
        "    ymin, ymax = np.min(X[:, 1]) - 0.05, np.max(X[:, 1]) + 0.05\n",
        "    step = 0.01\n",
        "    cm = plt.cm.coolwarm_r\n",
        "    #cm = plt.cm.RdBu\n",
        "    thr = 0.0\n",
        "    xx, yy = np.meshgrid(np.arange(xmin - thr, xmax + thr, step), np.arange(ymin - thr, ymax + thr, step))\n",
        "    #\n",
        "    if hasattr(classifier, 'decision_function'):\n",
        "        Z = classifier.decision_function(np.hstack((xx.ravel()[:, np.newaxis], yy.ravel()[:, np.newaxis])))\n",
        "    else:\n",
        "        Z = classifier.predict_proba(np.hstack((xx.ravel()[:, np.newaxis], yy.ravel()[:, np.newaxis])))[:, 1]\n",
        "        \n",
        "    Z = Z.reshape(xx.shape)\n",
        "    \n",
        "    plt.contourf(xx, yy, Z, cmap=cm, alpha=0.8)\n",
        "    plt.colorbar()\n",
        "    plt.scatter(X[:, 0], X[:, 1], c=y, cmap=ListedColormap(['#FF0000', '#0000FF']), alpha=0.6)\n",
        "    plt.xlim(xmin, xmax)\n",
        "    plt.ylim(ymin, ymax)\n",
        "    plt.title(title)"
      ],
      "execution_count": null,
      "outputs": []
    },
    {
      "cell_type": "markdown",
      "metadata": {
        "id": "MfIycZv5Df5u"
      },
      "source": [
        "## Graficando a separação das classes"
      ]
    },
    {
      "cell_type": "code",
      "metadata": {
        "id": "qRBVo7YoDf5u",
        "colab": {
          "base_uri": "https://localhost:8080/",
          "height": 281
        },
        "outputId": "2e0e5c84-06ad-4038-c311-b063031941cf"
      },
      "source": [
        "## Calculando o hiperplano\n",
        "plt.scatter(x0,y0,color='red', marker='o', label='0',s=80)\n",
        "plt.scatter(X[1:4,0], X[1:4,1],color='blue', marker='x', label='1',s=80)\n",
        "# gera os valores para a reta\n",
        "val = reta(plt,per)\n",
        "# valores de x\n",
        "xl = val[0]\n",
        "#valores de y\n",
        "yl = val[1]\n",
        "# grafica a linha\n",
        "plt.plot(xl,yl, 'k', label='Reta')\n",
        "#\n",
        "plt.title('função Lógica OR')\n",
        "plt.legend(loc='upper center')\n",
        "plt.show()"
      ],
      "execution_count": null,
      "outputs": [
        {
          "output_type": "display_data",
          "data": {
            "image/png": "[encoded data removed]",
            "text/plain": [
              "<Figure size 432x288 with 1 Axes>"
            ]
          },
          "metadata": {
            "tags": [],
            "needs_background": "light"
          }
        }
      ]
    },
    {
      "cell_type": "code",
      "metadata": {
        "id": "wxEu0HNHDf5y",
        "colab": {
          "base_uri": "https://localhost:8080/",
          "height": 281
        },
        "outputId": "1574f42f-5478-4679-fd50-18020bfa6d80"
      },
      "source": [
        "## Calculando o hiperplano\n",
        "plt.scatter(x0,y0,color='red', marker='o', label='0',s=100)\n",
        "plt.scatter(x1,y1,color='blue', marker='x', label='1',s=100)\n",
        "#\n",
        "plot_decision_boundary(per,X,y,'função Lógica OR')\n",
        "#\n",
        "plt.legend(loc='upper center')\n",
        "plt.show()"
      ],
      "execution_count": null,
      "outputs": [
        {
          "output_type": "display_data",
          "data": {
            "image/png": "[encoded data removed]",
            "text/plain": [
              "<Figure size 432x288 with 2 Axes>"
            ]
          },
          "metadata": {
            "tags": [],
            "needs_background": "light"
          }
        }
      ]
    },
    {
      "cell_type": "markdown",
      "metadata": {
        "id": "byZMKJwoDf50"
      },
      "source": [
        "Ao plotar o limite de decisão do Perceptron. A barra de cores à esquerda mostra as pontuações obtidas por $ w ⋅ x + b.$ Cada cor de ponto indica uma classe diferente (azul = 1, vermelho = 0)."
      ]
    },
    {
      "cell_type": "markdown",
      "metadata": {
        "id": "sMb0vCVYDf51"
      },
      "source": [
        "# Exercícios"
      ]
    },
    {
      "cell_type": "markdown",
      "metadata": {
        "id": "M9cuFxAVDf52"
      },
      "source": [
        "1. Implementar as redes neurais para os opradpres AND e XOR\n",
        "2. Pesquisa: O que acontece com o operador XOR? Poderia implementar uma solução? "
      ]
    },
    {
      "cell_type": "markdown",
      "metadata": {
        "id": "HUAfvpMLyaFJ"
      },
      "source": [
        "### Exercício AND"
      ]
    },
    {
      "cell_type": "code",
      "metadata": {
        "id": "oAH5NwLTygtX",
        "colab": {
          "base_uri": "https://localhost:8080/"
        },
        "outputId": "1e422b48-a0a4-49eb-bdd7-c7c5cfe0f8f4"
      },
      "source": [
        "# valores de entrada\n",
        "X_AND = np.array([[1, 1],[1 , 0], [0, 1],[0,0]])\n",
        "print(X_AND)"
      ],
      "execution_count": null,
      "outputs": [
        {
          "output_type": "stream",
          "text": [
            "[[1 1]\n",
            " [1 0]\n",
            " [0 1]\n",
            " [0 0]]\n"
          ],
          "name": "stdout"
        }
      ]
    },
    {
      "cell_type": "code",
      "metadata": {
        "id": "lCi9v9YjyhIU",
        "colab": {
          "base_uri": "https://localhost:8080/"
        },
        "outputId": "3748a582-2553-4a9c-9fcb-103ea5bf7e54"
      },
      "source": [
        "# valores de saida\n",
        "y_and = np.array([1,0,0,0])\n",
        "y_and.shape"
      ],
      "execution_count": null,
      "outputs": [
        {
          "output_type": "execute_result",
          "data": {
            "text/plain": [
              "(4,)"
            ]
          },
          "metadata": {
            "tags": []
          },
          "execution_count": 34
        }
      ]
    },
    {
      "cell_type": "code",
      "metadata": {
        "id": "LAnCvaxm0Gu-",
        "colab": {
          "base_uri": "https://localhost:8080/"
        },
        "outputId": "1150fa41-cdc9-4f07-d832-f650b41901c3"
      },
      "source": [
        "# coordenadas\n",
        "# valor x=y=1\n",
        "x0_and = X_AND[0][0]\n",
        "y0_and = X_AND[0][1]\n",
        "print([x0_and,y0_and])\n",
        "# outros valores\n",
        "x1_and = X_AND[1:4,0] # x\n",
        "y1_and = X_AND[1:4,1] # y\n",
        "print(x1_and,y1_and)"
      ],
      "execution_count": null,
      "outputs": [
        {
          "output_type": "stream",
          "text": [
            "[1, 1]\n",
            "[1 0 0] [0 1 0]\n"
          ],
          "name": "stdout"
        }
      ]
    },
    {
      "cell_type": "markdown",
      "metadata": {
        "id": "_6PjJ8Rx0-QF"
      },
      "source": [
        "### Graficando os valores de AND"
      ]
    },
    {
      "cell_type": "code",
      "metadata": {
        "id": "5wow2zce0GyP",
        "colab": {
          "base_uri": "https://localhost:8080/",
          "height": 295
        },
        "outputId": "b1603af8-654d-497b-d3e5-73bedac31d26"
      },
      "source": [
        "plt.scatter(x0_and,y0_and,color='red', marker='o', label='1', s=100)\n",
        "plt.scatter(x1_and,y1_and,color='blue', marker='o', label='0',s=100)\n",
        "plt.xlabel('X')\n",
        "plt.ylabel('Y')\n",
        "plt.title('Função Lógica AND')\n",
        "plt.legend(loc='upper center')\n",
        "plt.show()"
      ],
      "execution_count": null,
      "outputs": [
        {
          "output_type": "display_data",
          "data": {
            "image/png": "[encoded data removed]",
            "text/plain": [
              "<Figure size 432x288 with 1 Axes>"
            ]
          },
          "metadata": {
            "tags": [],
            "needs_background": "light"
          }
        }
      ]
    },
    {
      "cell_type": "code",
      "metadata": {
        "id": "FUS5wcIt0G1x"
      },
      "source": [
        "# A rede perceptron\n",
        "per_and = Perceptron(random_state=10, max_iter=1000, tol = 0.01, eta0=0.1)"
      ],
      "execution_count": null,
      "outputs": []
    },
    {
      "cell_type": "code",
      "metadata": {
        "id": "HCACDt3i0G5S",
        "colab": {
          "base_uri": "https://localhost:8080/"
        },
        "outputId": "7db8b7c4-7056-4279-dea1-83b5601e2237"
      },
      "source": [
        "# Entrada = X_AND\n",
        "# saida = y_and\n",
        "saida_and = per_and.fit(X_AND,y_and)\n",
        "print(saida_and)"
      ],
      "execution_count": null,
      "outputs": [
        {
          "output_type": "stream",
          "text": [
            "Perceptron(alpha=0.0001, class_weight=None, early_stopping=False, eta0=0.1,\n",
            "           fit_intercept=True, max_iter=1000, n_iter_no_change=5, n_jobs=None,\n",
            "           penalty=None, random_state=10, shuffle=True, tol=0.01,\n",
            "           validation_fraction=0.1, verbose=0, warm_start=False)\n"
          ],
          "name": "stdout"
        }
      ]
    },
    {
      "cell_type": "markdown",
      "metadata": {
        "id": "Ca6jDLCk16XE"
      },
      "source": [
        "### Prognóstico dos valores"
      ]
    },
    {
      "cell_type": "code",
      "metadata": {
        "id": "SDvLl21i14bw",
        "colab": {
          "base_uri": "https://localhost:8080/"
        },
        "outputId": "47615f99-e25b-4629-8c5e-ab782537b632"
      },
      "source": [
        "# saida de dados = y\n",
        "saida_and = per_and.predict([[1, 0]])\n",
        "print('Saída:')\n",
        "print('y =',saida_and[0])"
      ],
      "execution_count": null,
      "outputs": [
        {
          "output_type": "stream",
          "text": [
            "Saída:\n",
            "y = 0\n"
          ],
          "name": "stdout"
        }
      ]
    },
    {
      "cell_type": "markdown",
      "metadata": {
        "id": "P66tbnTb2k84"
      },
      "source": [
        "### Visualizando os resultados totais"
      ]
    },
    {
      "cell_type": "code",
      "metadata": {
        "id": "xnFQti5w14fA",
        "colab": {
          "base_uri": "https://localhost:8080/"
        },
        "outputId": "aaf8b16e-4da7-4891-ce9b-ec4df0f2e804"
      },
      "source": [
        "# Visualizando os resultados\n",
        "print(\"Predição = \" + str(per_and.predict(X_AND)))\n",
        "print(\"Atual    = \" + str(y_and))\n",
        "print(\"Acurácia = \" + str(per_and.score(X_AND, y_and)*100) + \"%\")"
      ],
      "execution_count": null,
      "outputs": [
        {
          "output_type": "stream",
          "text": [
            "Predição = [1 0 0 0]\n",
            "Atual    = [1 0 0 0]\n",
            "Acurácia = 100.0%\n"
          ],
          "name": "stdout"
        }
      ]
    },
    {
      "cell_type": "markdown",
      "metadata": {
        "id": "J9JSm40a3PWC"
      },
      "source": [
        "### Grafico da função lógica AND"
      ]
    },
    {
      "cell_type": "code",
      "metadata": {
        "id": "M6WcOu_u14ir",
        "colab": {
          "base_uri": "https://localhost:8080/",
          "height": 281
        },
        "outputId": "97591577-032a-4716-87da-88535ebf5a89"
      },
      "source": [
        "## Calculando o hiperplano\n",
        "plt.scatter(x0_and,y0_and,color='red', marker='o', label='1',s=80)\n",
        "plt.scatter(x1_and, y1_and,color='blue', marker='o', label='0',s=80)\n",
        "# gera os valores para a reta\n",
        "valores = reta(plt,per_and)\n",
        "#print(valores)\n",
        "# valores de x\n",
        "xl = valores[0]+0.1\n",
        "#valores de y\n",
        "yl = valores[1]+0.1\n",
        "# grafica a linha\n",
        "plt.plot(xl,yl, 'k', label='Reta')\n",
        "#\n",
        "plt.title('função Lógica AND')\n",
        "plt.legend(loc='upper center')\n",
        "plt.grid()\n",
        "plt.show()"
      ],
      "execution_count": null,
      "outputs": [
        {
          "output_type": "display_data",
          "data": {
            "image/png": "[encoded data removed]",
            "text/plain": [
              "<Figure size 432x288 with 1 Axes>"
            ]
          },
          "metadata": {
            "tags": [],
            "needs_background": "light"
          }
        }
      ]
    },
    {
      "cell_type": "code",
      "metadata": {
        "id": "cejqof7s9F5b",
        "colab": {
          "base_uri": "https://localhost:8080/",
          "height": 281
        },
        "outputId": "c44122b0-4ff4-4085-e0c5-851760c20c21"
      },
      "source": [
        "## Calculando o hiperplano\n",
        "plt.scatter(x0_and,y0_and,color='red', marker='o', label='1',s=100)\n",
        "plt.scatter(x1_and,y1_and,color='blue', marker='o', label='0',s=100)\n",
        "#\n",
        "plot_decision_boundary(per_and,X_AND,y_and,'função Lógica AND')\n",
        "#\n",
        "plt.legend(loc='upper center')\n",
        "plt.show()"
      ],
      "execution_count": null,
      "outputs": [
        {
          "output_type": "display_data",
          "data": {
            "image/png": "[encoded data removed]",
            "text/plain": [
              "<Figure size 432x288 with 2 Axes>"
            ]
          },
          "metadata": {
            "tags": [],
            "needs_background": "light"
          }
        }
      ]
    },
    {
      "cell_type": "markdown",
      "metadata": {
        "id": "NsC_ylAqDf53"
      },
      "source": [
        "# Exemplo IRIS"
      ]
    },
    {
      "cell_type": "code",
      "metadata": {
        "id": "ttGfpsTlEs7m",
        "colab": {
          "base_uri": "https://localhost:8080/"
        },
        "outputId": "b31a54c9-2659-4e73-c004-d64291c9e1ae"
      },
      "source": [
        "# dados\n",
        "!git clone https://github.com/zavaleta/Fuzzy_logic_UFRRJ"
      ],
      "execution_count": null,
      "outputs": [
        {
          "output_type": "stream",
          "text": [
            "Cloning into 'Fuzzy_logic_UFRRJ'...\n",
            "remote: Enumerating objects: 22, done.\u001b[K\n",
            "remote: Counting objects: 100% (22/22), done.\u001b[K\n",
            "remote: Compressing objects: 100% (19/19), done.\u001b[K\n",
            "remote: Total 22 (delta 5), reused 0 (delta 0), pack-reused 0\u001b[K\n",
            "Unpacking objects: 100% (22/22), done.\n"
          ],
          "name": "stdout"
        }
      ]
    },
    {
      "cell_type": "code",
      "metadata": {
        "id": "IqxBnqXgEuNO",
        "colab": {
          "base_uri": "https://localhost:8080/",
          "height": 203
        },
        "outputId": "7db77923-7e83-4c33-cefe-70bb5d4af419"
      },
      "source": [
        "import pandas as pd\n",
        "df = pd.read_csv(\"Fuzzy_logic_UFRRJ/data/iris.csv\")\n",
        "df.head()"
      ],
      "execution_count": null,
      "outputs": [
        {
          "output_type": "execute_result",
          "data": {
            "text/html": [
              "<div>\n",
              "<style scoped>\n",
              "    .dataframe tbody tr th:only-of-type {\n",
              "        vertical-align: middle;\n",
              "    }\n",
              "\n",
              "    .dataframe tbody tr th {\n",
              "        vertical-align: top;\n",
              "    }\n",
              "\n",
              "    .dataframe thead th {\n",
              "        text-align: right;\n",
              "    }\n",
              "</style>\n",
              "<table border=\"1\" class=\"dataframe\">\n",
              "  <thead>\n",
              "    <tr style=\"text-align: right;\">\n",
              "      <th></th>\n",
              "      <th>sepal_length</th>\n",
              "      <th>sepal_width</th>\n",
              "      <th>petal_length</th>\n",
              "      <th>petal_width</th>\n",
              "      <th>species</th>\n",
              "    </tr>\n",
              "  </thead>\n",
              "  <tbody>\n",
              "    <tr>\n",
              "      <th>0</th>\n",
              "      <td>5.1</td>\n",
              "      <td>3.5</td>\n",
              "      <td>1.4</td>\n",
              "      <td>0.2</td>\n",
              "      <td>setosa</td>\n",
              "    </tr>\n",
              "    <tr>\n",
              "      <th>1</th>\n",
              "      <td>4.9</td>\n",
              "      <td>3.0</td>\n",
              "      <td>1.4</td>\n",
              "      <td>0.2</td>\n",
              "      <td>setosa</td>\n",
              "    </tr>\n",
              "    <tr>\n",
              "      <th>2</th>\n",
              "      <td>4.7</td>\n",
              "      <td>3.2</td>\n",
              "      <td>1.3</td>\n",
              "      <td>0.2</td>\n",
              "      <td>setosa</td>\n",
              "    </tr>\n",
              "    <tr>\n",
              "      <th>3</th>\n",
              "      <td>4.6</td>\n",
              "      <td>3.1</td>\n",
              "      <td>1.5</td>\n",
              "      <td>0.2</td>\n",
              "      <td>setosa</td>\n",
              "    </tr>\n",
              "    <tr>\n",
              "      <th>4</th>\n",
              "      <td>5.0</td>\n",
              "      <td>3.6</td>\n",
              "      <td>1.4</td>\n",
              "      <td>0.2</td>\n",
              "      <td>setosa</td>\n",
              "    </tr>\n",
              "  </tbody>\n",
              "</table>\n",
              "</div>"
            ],
            "text/plain": [
              "   sepal_length  sepal_width  petal_length  petal_width species\n",
              "0           5.1          3.5           1.4          0.2  setosa\n",
              "1           4.9          3.0           1.4          0.2  setosa\n",
              "2           4.7          3.2           1.3          0.2  setosa\n",
              "3           4.6          3.1           1.5          0.2  setosa\n",
              "4           5.0          3.6           1.4          0.2  setosa"
            ]
          },
          "metadata": {
            "tags": []
          },
          "execution_count": 53
        }
      ]
    },
    {
      "cell_type": "code",
      "metadata": {
        "scrolled": true,
        "id": "Jy9uRa5CDf54"
      },
      "source": [
        "# repositorio local\n",
        "#import pandas as pd\n",
        "#df = pd.read_csv('data/iris.csv', header=None)\n",
        "#df.head()\n",
        "#df.tail()"
      ],
      "execution_count": null,
      "outputs": []
    },
    {
      "cell_type": "code",
      "metadata": {
        "id": "iYtzo-qKDf58",
        "colab": {
          "base_uri": "https://localhost:8080/"
        },
        "outputId": "6b9ab529-bbae-4c22-ee76-a27998687598"
      },
      "source": [
        "# verificando valores\n",
        "#print(df.shape)\n",
        "cl = df.iloc[0:100, 4].values\n",
        "print('Classes (species):')\n",
        "print(cl)"
      ],
      "execution_count": null,
      "outputs": [
        {
          "output_type": "stream",
          "text": [
            "Classes (species):\n",
            "['setosa' 'setosa' 'setosa' 'setosa' 'setosa' 'setosa' 'setosa' 'setosa'\n",
            " 'setosa' 'setosa' 'setosa' 'setosa' 'setosa' 'setosa' 'setosa' 'setosa'\n",
            " 'setosa' 'setosa' 'setosa' 'setosa' 'setosa' 'setosa' 'setosa' 'setosa'\n",
            " 'setosa' 'setosa' 'setosa' 'setosa' 'setosa' 'setosa' 'setosa' 'setosa'\n",
            " 'setosa' 'setosa' 'setosa' 'setosa' 'setosa' 'setosa' 'setosa' 'setosa'\n",
            " 'setosa' 'setosa' 'setosa' 'setosa' 'setosa' 'setosa' 'setosa' 'setosa'\n",
            " 'setosa' 'setosa' 'versicolor' 'versicolor' 'versicolor' 'versicolor'\n",
            " 'versicolor' 'versicolor' 'versicolor' 'versicolor' 'versicolor'\n",
            " 'versicolor' 'versicolor' 'versicolor' 'versicolor' 'versicolor'\n",
            " 'versicolor' 'versicolor' 'versicolor' 'versicolor' 'versicolor'\n",
            " 'versicolor' 'versicolor' 'versicolor' 'versicolor' 'versicolor'\n",
            " 'versicolor' 'versicolor' 'versicolor' 'versicolor' 'versicolor'\n",
            " 'versicolor' 'versicolor' 'versicolor' 'versicolor' 'versicolor'\n",
            " 'versicolor' 'versicolor' 'versicolor' 'versicolor' 'versicolor'\n",
            " 'versicolor' 'versicolor' 'versicolor' 'versicolor' 'versicolor'\n",
            " 'versicolor' 'versicolor' 'versicolor' 'versicolor' 'versicolor'\n",
            " 'versicolor']\n"
          ],
          "name": "stdout"
        }
      ]
    },
    {
      "cell_type": "code",
      "metadata": {
        "id": "_G2rtMJuDf5_",
        "colab": {
          "base_uri": "https://localhost:8080/"
        },
        "outputId": "0375c8ce-a358-4488-a9df-d5990fdcc824"
      },
      "source": [
        "# Arrumando os dados\n",
        "# objetivo final\n",
        "cy = np.where(cl == 'setosa', -1, 1)\n",
        "print('Vetor:')\n",
        "print(cy.shape)"
      ],
      "execution_count": null,
      "outputs": [
        {
          "output_type": "stream",
          "text": [
            "Vetor:\n",
            "(100,)\n"
          ],
          "name": "stdout"
        }
      ]
    },
    {
      "cell_type": "code",
      "metadata": {
        "id": "Re1El7ljDf6D",
        "colab": {
          "base_uri": "https://localhost:8080/"
        },
        "outputId": "27dc9f3e-1aeb-46b8-8510-3e74da7f97f6"
      },
      "source": [
        "# valores de entrada\n",
        "I = df.iloc[0:101, [0, 2]].values\n",
        "print('Valores:')\n",
        "new_I = np.array(I[1:])\n",
        "V = []\n",
        "for i,j in new_I:\n",
        "    V.append([float(i),float(j)])\n",
        "XX = np.array(V)\n",
        "print(XX.shape)"
      ],
      "execution_count": null,
      "outputs": [
        {
          "output_type": "stream",
          "text": [
            "Valores:\n",
            "(100, 2)\n"
          ],
          "name": "stdout"
        }
      ]
    },
    {
      "cell_type": "code",
      "metadata": {
        "id": "_UQ1pxoxDf6G",
        "colab": {
          "base_uri": "https://localhost:8080/",
          "height": 280
        },
        "outputId": "1bb50059-2512-423a-dfac-fbfd77285b2f"
      },
      "source": [
        "# Graficando\n",
        "plt.scatter(XX[cy==1, 0], XX[cy==1, 1],color='red', marker='o', label='setosa')\n",
        "plt.scatter(XX[cy==-1, 0], XX[cy==-1, 1], color='blue', marker='x', label='versicolor')\n",
        "plt.xlabel('Comprimento da pétala')\n",
        "plt.ylabel('Comprimento da sépala ')\n",
        "plt.legend(loc='upper left')\n",
        "plt.show()"
      ],
      "execution_count": null,
      "outputs": [
        {
          "output_type": "display_data",
          "data": {
            "image/png": "[encoded data removed]",
            "text/plain": [
              "<Figure size 432x288 with 1 Axes>"
            ]
          },
          "metadata": {
            "tags": [],
            "needs_background": "light"
          }
        }
      ]
    },
    {
      "cell_type": "code",
      "metadata": {
        "scrolled": true,
        "id": "rY9ml0ISDf6K",
        "colab": {
          "base_uri": "https://localhost:8080/"
        },
        "outputId": "3d8ff25a-75fb-465a-ece4-d3ee6dc03d40"
      },
      "source": [
        "ppn = Perceptron(eta0=0.1, max_iter=10)\n",
        "ppn.fit(XX, cy)"
      ],
      "execution_count": null,
      "outputs": [
        {
          "output_type": "stream",
          "text": [
            "/usr/local/lib/python3.6/dist-packages/sklearn/linear_model/_stochastic_gradient.py:557: ConvergenceWarning: Maximum number of iteration reached before convergence. Consider increasing max_iter to improve the fit.\n",
            "  ConvergenceWarning)\n"
          ],
          "name": "stderr"
        },
        {
          "output_type": "execute_result",
          "data": {
            "text/plain": [
              "Perceptron(alpha=0.0001, class_weight=None, early_stopping=False, eta0=0.1,\n",
              "           fit_intercept=True, max_iter=10, n_iter_no_change=5, n_jobs=None,\n",
              "           penalty=None, random_state=0, shuffle=True, tol=0.001,\n",
              "           validation_fraction=0.1, verbose=0, warm_start=False)"
            ]
          },
          "metadata": {
            "tags": []
          },
          "execution_count": 58
        }
      ]
    },
    {
      "cell_type": "markdown",
      "metadata": {
        "id": "4ZaER_gLDf6N"
      },
      "source": [
        "## Graficar o Hiperplano\n",
        "Observe o gráfico, existe algum erro? Cómo poderia ser resolvido?"
      ]
    },
    {
      "cell_type": "code",
      "metadata": {
        "id": "kSS25HtGDf6O"
      },
      "source": [
        ""
      ],
      "execution_count": null,
      "outputs": []
    }
  ]
}